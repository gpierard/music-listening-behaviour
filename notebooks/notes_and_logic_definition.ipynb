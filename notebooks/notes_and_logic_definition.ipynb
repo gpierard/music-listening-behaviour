{
 "cells": [
  {
   "cell_type": "code",
   "execution_count": 1,
   "id": "52ee9499",
   "metadata": {},
   "outputs": [],
   "source": [
    "from pyspark.sql import SparkSession\n",
    "import logging"
   ]
  },
  {
   "cell_type": "code",
   "execution_count": 2,
   "id": "3dceb7df",
   "metadata": {},
   "outputs": [
    {
     "data": {
      "text/html": [
       "<pre style=\"white-space:pre;overflow-x:auto;line-height:normal;font-family:Menlo,'DejaVu Sans Mono',consolas,'Courier New',monospace\"><span style=\"color: #7fbfbf; text-decoration-color: #7fbfbf\">                    </span><span style=\"color: #000080; text-decoration-color: #000080\">INFO    </span> Resolved project path as: C:\\GP\\music-listening-behaviour.             <span style=\"color: #7f7f7f; text-decoration-color: #7f7f7f\">__init__.py:139</span>\n",
       "<span style=\"color: #7fbfbf; text-decoration-color: #7fbfbf\">                    </span>         To set a different path, run <span style=\"color: #008000; text-decoration-color: #008000\">'%reload_kedro &lt;project_root&gt;'</span>            <span style=\"color: #7f7f7f; text-decoration-color: #7f7f7f\">               </span>\n",
       "</pre>\n"
      ],
      "text/plain": [
       "\u001b[2;36m                   \u001b[0m\u001b[2;36m \u001b[0m\u001b[34mINFO    \u001b[0m Resolved project path as: C:\\GP\\music-listening-behaviour.             \u001b[2m__init__.py\u001b[0m\u001b[2m:\u001b[0m\u001b[2m139\u001b[0m\n",
       "\u001b[2;36m                    \u001b[0m         To set a different path, run \u001b[32m'%reload_kedro \u001b[0m\u001b[32m<\u001b[0m\u001b[32mproject_root\u001b[0m\u001b[32m>\u001b[0m\u001b[32m'\u001b[0m            \u001b[2m               \u001b[0m\n"
      ]
     },
     "metadata": {},
     "output_type": "display_data"
    },
    {
     "data": {
      "text/html": [
       "<pre style=\"white-space:pre;overflow-x:auto;line-height:normal;font-family:Menlo,'DejaVu Sans Mono',consolas,'Courier New',monospace\"><span style=\"color: #7fbfbf; text-decoration-color: #7fbfbf\">[08/30/23 12:23:16] </span><span style=\"color: #800000; text-decoration-color: #800000\">WARNING </span> C:\\Program                                                             <span style=\"color: #7f7f7f; text-decoration-color: #7f7f7f\">warnings.py:109</span>\n",
       "<span style=\"color: #7fbfbf; text-decoration-color: #7fbfbf\">                    </span>         Files\\Python310\\lib\\site-packages\\kedro\\framework\\session\\session.py:<span style=\"color: #008080; text-decoration-color: #008080; font-weight: bold\">2</span> <span style=\"color: #7f7f7f; text-decoration-color: #7f7f7f\">               </span>\n",
       "<span style=\"color: #7fbfbf; text-decoration-color: #7fbfbf\">                    </span>         <span style=\"color: #008080; text-decoration-color: #008080; font-weight: bold\">66</span>: FutureWarning: ConfigLoader will be deprecated in Kedro <span style=\"color: #008080; text-decoration-color: #008080; font-weight: bold\">0.19</span>.      <span style=\"color: #7f7f7f; text-decoration-color: #7f7f7f\">               </span>\n",
       "<span style=\"color: #7fbfbf; text-decoration-color: #7fbfbf\">                    </span>         Please use the OmegaConfigLoader instead. To consult the documentation <span style=\"color: #7f7f7f; text-decoration-color: #7f7f7f\">               </span>\n",
       "<span style=\"color: #7fbfbf; text-decoration-color: #7fbfbf\">                    </span>         for OmegaConfigLoader, see here:                                       <span style=\"color: #7f7f7f; text-decoration-color: #7f7f7f\">               </span>\n",
       "<span style=\"color: #7fbfbf; text-decoration-color: #7fbfbf\">                    </span>         <span style=\"color: #0000ff; text-decoration-color: #0000ff; text-decoration: underline\">https://docs.kedro.org/en/stable/configuration/advanced_configuration.</span> <span style=\"color: #7f7f7f; text-decoration-color: #7f7f7f\">               </span>\n",
       "<span style=\"color: #7fbfbf; text-decoration-color: #7fbfbf\">                    </span>         <span style=\"color: #0000ff; text-decoration-color: #0000ff; text-decoration: underline\">html#omegaconfigloader</span>                                                 <span style=\"color: #7f7f7f; text-decoration-color: #7f7f7f\">               </span>\n",
       "<span style=\"color: #7fbfbf; text-decoration-color: #7fbfbf\">                    </span>           <span style=\"color: #800080; text-decoration-color: #800080; font-weight: bold\">warnings.warn</span><span style=\"font-weight: bold\">(</span>                                                       <span style=\"color: #7f7f7f; text-decoration-color: #7f7f7f\">               </span>\n",
       "<span style=\"color: #7fbfbf; text-decoration-color: #7fbfbf\">                    </span>                                                                                <span style=\"color: #7f7f7f; text-decoration-color: #7f7f7f\">               </span>\n",
       "</pre>\n"
      ],
      "text/plain": [
       "\u001b[2;36m[08/30/23 12:23:16]\u001b[0m\u001b[2;36m \u001b[0m\u001b[31mWARNING \u001b[0m C:\\Program                                                             \u001b[2mwarnings.py\u001b[0m\u001b[2m:\u001b[0m\u001b[2m109\u001b[0m\n",
       "\u001b[2;36m                    \u001b[0m         Files\\Python310\\lib\\site-packages\\kedro\\framework\\session\\session.py:\u001b[1;36m2\u001b[0m \u001b[2m               \u001b[0m\n",
       "\u001b[2;36m                    \u001b[0m         \u001b[1;36m66\u001b[0m: FutureWarning: ConfigLoader will be deprecated in Kedro \u001b[1;36m0.19\u001b[0m.      \u001b[2m               \u001b[0m\n",
       "\u001b[2;36m                    \u001b[0m         Please use the OmegaConfigLoader instead. To consult the documentation \u001b[2m               \u001b[0m\n",
       "\u001b[2;36m                    \u001b[0m         for OmegaConfigLoader, see here:                                       \u001b[2m               \u001b[0m\n",
       "\u001b[2;36m                    \u001b[0m         \u001b[4;94mhttps://docs.kedro.org/en/stable/configuration/advanced_configuration.\u001b[0m \u001b[2m               \u001b[0m\n",
       "\u001b[2;36m                    \u001b[0m         \u001b[4;94mhtml#omegaconfigloader\u001b[0m                                                 \u001b[2m               \u001b[0m\n",
       "\u001b[2;36m                    \u001b[0m           \u001b[1;35mwarnings.warn\u001b[0m\u001b[1m(\u001b[0m                                                       \u001b[2m               \u001b[0m\n",
       "\u001b[2;36m                    \u001b[0m                                                                                \u001b[2m               \u001b[0m\n"
      ]
     },
     "metadata": {},
     "output_type": "display_data"
    },
    {
     "data": {
      "text/html": [
       "<pre style=\"white-space:pre;overflow-x:auto;line-height:normal;font-family:Menlo,'DejaVu Sans Mono',consolas,'Courier New',monospace\"><span style=\"color: #7fbfbf; text-decoration-color: #7fbfbf\">[08/30/23 12:23:17] </span><span style=\"color: #000080; text-decoration-color: #000080\">INFO    </span> Kedro project music-listening-behaviour                                <span style=\"color: #7f7f7f; text-decoration-color: #7f7f7f\">__init__.py:108</span>\n",
       "</pre>\n"
      ],
      "text/plain": [
       "\u001b[2;36m[08/30/23 12:23:17]\u001b[0m\u001b[2;36m \u001b[0m\u001b[34mINFO    \u001b[0m Kedro project music-listening-behaviour                                \u001b[2m__init__.py\u001b[0m\u001b[2m:\u001b[0m\u001b[2m108\u001b[0m\n"
      ]
     },
     "metadata": {},
     "output_type": "display_data"
    },
    {
     "data": {
      "text/html": [
       "<pre style=\"white-space:pre;overflow-x:auto;line-height:normal;font-family:Menlo,'DejaVu Sans Mono',consolas,'Courier New',monospace\"><span style=\"color: #7fbfbf; text-decoration-color: #7fbfbf\">                    </span><span style=\"color: #000080; text-decoration-color: #000080\">INFO    </span> Defined global variable <span style=\"color: #008000; text-decoration-color: #008000\">'context'</span>, <span style=\"color: #008000; text-decoration-color: #008000\">'session'</span>, <span style=\"color: #008000; text-decoration-color: #008000\">'catalog'</span> and            <span style=\"color: #7f7f7f; text-decoration-color: #7f7f7f\">__init__.py:109</span>\n",
       "<span style=\"color: #7fbfbf; text-decoration-color: #7fbfbf\">                    </span>         <span style=\"color: #008000; text-decoration-color: #008000\">'pipelines'</span>                                                            <span style=\"color: #7f7f7f; text-decoration-color: #7f7f7f\">               </span>\n",
       "</pre>\n"
      ],
      "text/plain": [
       "\u001b[2;36m                   \u001b[0m\u001b[2;36m \u001b[0m\u001b[34mINFO    \u001b[0m Defined global variable \u001b[32m'context'\u001b[0m, \u001b[32m'session'\u001b[0m, \u001b[32m'catalog'\u001b[0m and            \u001b[2m__init__.py\u001b[0m\u001b[2m:\u001b[0m\u001b[2m109\u001b[0m\n",
       "\u001b[2;36m                    \u001b[0m         \u001b[32m'pipelines'\u001b[0m                                                            \u001b[2m               \u001b[0m\n"
      ]
     },
     "metadata": {},
     "output_type": "display_data"
    },
    {
     "data": {
      "text/html": [
       "<pre style=\"white-space:pre;overflow-x:auto;line-height:normal;font-family:Menlo,'DejaVu Sans Mono',consolas,'Courier New',monospace\"><span style=\"color: #7fbfbf; text-decoration-color: #7fbfbf\">                    </span><span style=\"color: #000080; text-decoration-color: #000080\">INFO    </span> Registered line magic <span style=\"color: #008000; text-decoration-color: #008000\">'run_viz'</span>                                        <span style=\"color: #7f7f7f; text-decoration-color: #7f7f7f\">__init__.py:115</span>\n",
       "</pre>\n"
      ],
      "text/plain": [
       "\u001b[2;36m                   \u001b[0m\u001b[2;36m \u001b[0m\u001b[34mINFO    \u001b[0m Registered line magic \u001b[32m'run_viz'\u001b[0m                                        \u001b[2m__init__.py\u001b[0m\u001b[2m:\u001b[0m\u001b[2m115\u001b[0m\n"
      ]
     },
     "metadata": {},
     "output_type": "display_data"
    }
   ],
   "source": [
    "%reload_kedro"
   ]
  },
  {
   "cell_type": "code",
   "execution_count": 4,
   "id": "c9210db7",
   "metadata": {},
   "outputs": [
    {
     "data": {
      "text/html": [
       "\n",
       "            <div>\n",
       "                <p><b>SparkSession - hive</b></p>\n",
       "                \n",
       "        <div>\n",
       "            <p><b>SparkContext</b></p>\n",
       "\n",
       "            <p><a href=\"http://host.docker.internal:8080\">Spark UI</a></p>\n",
       "\n",
       "            <dl>\n",
       "              <dt>Version</dt>\n",
       "                <dd><code>v3.4.1</code></dd>\n",
       "              <dt>Master</dt>\n",
       "                <dd><code>local[6]</code></dd>\n",
       "              <dt>AppName</dt>\n",
       "                <dd><code>music-listening-behaviour</code></dd>\n",
       "            </dl>\n",
       "        </div>\n",
       "        \n",
       "            </div>\n",
       "        "
      ]
     },
     "execution_count": 4,
     "metadata": {},
     "output_type": "execute_result"
    }
   ],
   "source": [
    "# check that the spark hook was triggered and that the session is live\n",
    "SparkSession.builder.getOrCreate() # OK"
   ]
  },
  {
   "cell_type": "code",
   "execution_count": 3,
   "id": "914d4b77",
   "metadata": {},
   "outputs": [],
   "source": [
    "spark = SparkSession.builder.getOrCreate()\n",
    "assert spark.conf.get(\"spark.app.name\") == 'music-listening-behaviour'"
   ]
  },
  {
   "cell_type": "code",
   "execution_count": 15,
   "id": "522ccca6",
   "metadata": {},
   "outputs": [
    {
     "data": {
      "text/html": [
       "<pre style=\"white-space:pre;overflow-x:auto;line-height:normal;font-family:Menlo,'DejaVu Sans Mono',consolas,'Courier New',monospace\"><span style=\"color: #7fbfbf; text-decoration-color: #7fbfbf\">[08/29/23 21:17:38] </span><span style=\"color: #000080; text-decoration-color: #000080\">INFO    </span> Loading data from <span style=\"color: #008000; text-decoration-color: #008000\">'track-sessions'</span> <span style=\"font-weight: bold\">(</span>SparkDataSet<span style=\"font-weight: bold\">)</span><span style=\"color: #808000; text-decoration-color: #808000\">...</span>               <span style=\"color: #7f7f7f; text-decoration-color: #7f7f7f\">data_catalog.py:475</span>\n",
       "</pre>\n"
      ],
      "text/plain": [
       "\u001b[2;36m[08/29/23 21:17:38]\u001b[0m\u001b[2;36m \u001b[0m\u001b[34mINFO    \u001b[0m Loading data from \u001b[32m'track-sessions'\u001b[0m \u001b[1m(\u001b[0mSparkDataSet\u001b[1m)\u001b[0m\u001b[33m...\u001b[0m               \u001b[2mdata_catalog.py\u001b[0m\u001b[2m:\u001b[0m\u001b[2m475\u001b[0m\n"
      ]
     },
     "metadata": {},
     "output_type": "display_data"
    }
   ],
   "source": [
    "tracksess = catalog.load('track-sessions')"
   ]
  },
  {
   "cell_type": "code",
   "execution_count": 5,
   "id": "e48ac175",
   "metadata": {},
   "outputs": [
    {
     "data": {
      "text/html": [
       "<pre style=\"white-space:pre;overflow-x:auto;line-height:normal;font-family:Menlo,'DejaVu Sans Mono',consolas,'Courier New',monospace\"><span style=\"font-weight: bold\">[</span><span style=\"color: #008000; text-decoration-color: #008000\">'userid'</span>, <span style=\"color: #008000; text-decoration-color: #008000\">'timestamp'</span>, <span style=\"color: #008000; text-decoration-color: #008000\">'artistid'</span>, <span style=\"color: #008000; text-decoration-color: #008000\">'artistname'</span>, <span style=\"color: #008000; text-decoration-color: #008000\">'traid'</span>, <span style=\"color: #008000; text-decoration-color: #008000\">'traname'</span><span style=\"font-weight: bold\">]</span>\n",
       "</pre>\n"
      ],
      "text/plain": [
       "\u001b[1m[\u001b[0m\u001b[32m'userid'\u001b[0m, \u001b[32m'timestamp'\u001b[0m, \u001b[32m'artistid'\u001b[0m, \u001b[32m'artistname'\u001b[0m, \u001b[32m'traid'\u001b[0m, \u001b[32m'traname'\u001b[0m\u001b[1m]\u001b[0m\n"
      ]
     },
     "metadata": {},
     "output_type": "display_data"
    }
   ],
   "source": [
    "tracksess.columns"
   ]
  },
  {
   "cell_type": "code",
   "execution_count": 6,
   "id": "8d0de5de",
   "metadata": {},
   "outputs": [
    {
     "name": "stdout",
     "output_type": "stream",
     "text": [
      "+-----------+--------------------+--------------------+--------------------+--------------------+--------------------+\n",
      "|     userid|           timestamp|            artistid|          artistname|               traid|             traname|\n",
      "+-----------+--------------------+--------------------+--------------------+--------------------+--------------------+\n",
      "|user_000001|2009-05-04T23:08:57Z|f1b1cf71-bd35-4e9...|           Deep Dish|                null|Fuck Me Im Famous...|\n",
      "|user_000001|2009-05-04T13:54:10Z|a7f7df4a-77d8-4f1...|            坂本龍一|                null|Composition 0919 ...|\n",
      "|user_000001|2009-05-04T13:52:04Z|a7f7df4a-77d8-4f1...|            坂本龍一|                null|Mc2 (Live_2009_4_15)|\n",
      "|user_000001|2009-05-04T13:42:52Z|a7f7df4a-77d8-4f1...|            坂本龍一|                null|Hibari (Live_2009...|\n",
      "|user_000001|2009-05-04T13:42:11Z|a7f7df4a-77d8-4f1...|            坂本龍一|                null|Mc1 (Live_2009_4_15)|\n",
      "|user_000001|2009-05-04T13:38:31Z|a7f7df4a-77d8-4f1...|            坂本龍一|                null|To Stanford (Live...|\n",
      "|user_000001|2009-05-04T13:33:28Z|a7f7df4a-77d8-4f1...|            坂本龍一|                null|Improvisation (Li...|\n",
      "|user_000001|2009-05-04T13:23:45Z|a7f7df4a-77d8-4f1...|            坂本龍一|                null|Glacier (Live_200...|\n",
      "|user_000001|2009-05-04T13:19:22Z|a7f7df4a-77d8-4f1...|            坂本龍一|                null|Parolibre (Live_2...|\n",
      "|user_000001|2009-05-04T13:13:38Z|a7f7df4a-77d8-4f1...|            坂本龍一|                null|Bibo No Aozora (L...|\n",
      "|user_000001|2009-05-04T13:06:09Z|a7f7df4a-77d8-4f1...|            坂本龍一|f7c1f8f8-b935-45e...|The Last Emperor ...|\n",
      "|user_000001|2009-05-04T13:00:48Z|a7f7df4a-77d8-4f1...|            坂本龍一|                null|Happyend (Live_20...|\n",
      "|user_000001|2009-05-04T12:55:34Z|a7f7df4a-77d8-4f1...|            坂本龍一|475d4e50-cebb-4cd...|Tibetan Dance (Ve...|\n",
      "|user_000001|2009-05-04T12:51:26Z|a7f7df4a-77d8-4f1...|            坂本龍一|                null|Behind The Mask (...|\n",
      "|user_000001|2009-05-03T15:48:25Z|ba2f4f3b-0293-4bc...|          Underworld|dc394163-2b78-4b5...|Boy, Boy, Boy (Sw...|\n",
      "|user_000001|2009-05-03T15:37:56Z|ba2f4f3b-0293-4bc...|          Underworld|340d9a0b-9a43-409...|Crocodile (Innerv...|\n",
      "|user_000001|2009-05-03T15:14:53Z|a16e47f5-aa54-47f...|     Ennio Morricone|0b04407b-f517-4e0...|Ninna Nanna In Bl...|\n",
      "|user_000001|2009-05-03T15:10:18Z|463a94f1-2713-40b...|             Minus 8|4e78efc4-e545-47a...|      Elysian Fields|\n",
      "|user_000001|2009-05-03T15:04:31Z|ad0811ea-e213-451...|           Beanfield|fb51d2c4-cc69-412...|  Planetary Deadlock|\n",
      "|user_000001|2009-05-03T14:56:25Z|309e2dfc-678e-4d0...|            Dj Linus|4277434f-e3c2-41a...|Good Morning Love...|\n",
      "|user_000001|2009-05-03T14:50:51Z|6f3d4a7b-45b2-4c0...|           Alif Tree|1151b040-8022-496...|      Deadly Species|\n",
      "|user_000001|2009-05-03T14:46:29Z|463a94f1-2713-40b...|             Minus 8|f78c95a8-9256-475...|         Cold Fusion|\n",
      "|user_000001|2009-05-03T14:39:20Z|45bdb5be-ec03-484...|             Wei-Chi|c4fc8802-d186-4c4...|              Clouds|\n",
      "|user_000001|2009-05-03T14:34:06Z|3c174d9d-139b-4fa...|           Marsmobil|7217acaf-0f12-4cc...|        Sovatex 2055|\n",
      "|user_000001|2009-05-03T14:28:02Z|f945fc79-fb9e-4e3...|               Karma|b79e44f0-2a27-4f5...|         Beach Towel|\n",
      "|user_000001|2009-05-03T14:20:15Z|ce559a88-58ba-4d8...|           Masomenos|                null|               Eight|\n",
      "|user_000001|2009-05-03T14:07:40Z|ce559a88-58ba-4d8...|           Masomenos|                null|               Seven|\n",
      "|user_000001|2009-05-03T14:01:15Z|ce559a88-58ba-4d8...|           Masomenos|                null|                 Six|\n",
      "|user_000001|2009-05-03T13:56:25Z|ce559a88-58ba-4d8...|           Masomenos|                null|                Five|\n",
      "|user_000001|2009-05-03T13:47:20Z|ce559a88-58ba-4d8...|           Masomenos|                null|                Four|\n",
      "|user_000001|2009-05-03T13:40:46Z|ce559a88-58ba-4d8...|           Masomenos|                null|               Three|\n",
      "|user_000001|2009-05-03T13:36:15Z|ce559a88-58ba-4d8...|           Masomenos|                null|                 Two|\n",
      "|user_000001|2009-05-03T13:32:44Z|4f69da4b-55a9-434...|    The Young Lovers|f2a38e8c-2eb1-4f4...|How Lonely Does I...|\n",
      "|user_000001|2009-05-03T13:29:11Z|4f69da4b-55a9-434...|    The Young Lovers|d7ffc453-7c42-4fd...|   You Make Me Dizzy|\n",
      "|user_000001|2009-05-03T13:21:10Z|56a70482-5528-4be...|           Minilogue|                null|Animals (Beat Pha...|\n",
      "|user_000001|2009-05-03T13:13:25Z|56a70482-5528-4be...|           Minilogue|                null|Animals (Tolga Fi...|\n",
      "|user_000001|2009-05-03T13:02:08Z|56a70482-5528-4be...|           Minilogue|                null|Animals (Luciano ...|\n",
      "|user_000001|2009-05-02T15:29:50Z|3d05eb8b-1644-414...|               4Hero|41bacfc2-c594-4e0...|       The Awakening|\n",
      "|user_000001|2009-05-02T15:24:45Z|3d05eb8b-1644-414...|               4Hero|cc7da9f6-df0e-4f8...|   Stoke Up The Fire|\n",
      "|user_000001|2009-05-02T15:19:46Z|3d05eb8b-1644-414...|               4Hero|0024d72c-136f-49f...|Something In The Way|\n",
      "|user_000001|2009-05-02T15:13:49Z|3d05eb8b-1644-414...|               4Hero|2f550569-8859-434...|Play With The Cha...|\n",
      "|user_000001|2009-05-02T15:08:57Z|3d05eb8b-1644-414...|               4Hero|00b811a4-762b-492...|             Give In|\n",
      "|user_000001|2009-05-02T15:05:06Z|3d05eb8b-1644-414...|               4Hero|                null|        Sink Or Swim|\n",
      "|user_000001|2009-05-02T15:00:59Z|3d05eb8b-1644-414...|               4Hero|6b71d43e-9258-4ab...|         Look Inside|\n",
      "|user_000001|2009-05-02T14:56:52Z|3d05eb8b-1644-414...|               4Hero|0fef630e-df3d-488...|       Morning Child|\n",
      "|user_000001|2009-05-02T14:56:52Z|3d05eb8b-1644-414...|               4Hero|8e9ec4d9-2248-4f6...|        Take My Time|\n",
      "|user_000001|2009-05-02T14:52:15Z|3d05eb8b-1644-414...|               4Hero|0fef630e-df3d-488...|       Morning Child|\n",
      "|user_000001|2009-05-02T14:50:20Z|c6971fd2-7a18-4a3...|          Pc Synergy|                null|        Ready 2 Wear|\n",
      "|user_000001|2009-05-02T14:43:46Z|88c7bc11-a2a7-4ac...|              Rithma|                null|Map Point Baby (T...|\n",
      "|user_000001|2009-05-02T14:37:11Z|a3934f47-c4cc-4e7...|           Lisa Shaw|                null|Inside My Love (E...|\n",
      "|user_000001|2009-05-02T14:30:56Z|                null|       Rocket Empire|                null|  Simmer Down Jammie|\n",
      "|user_000001|2009-05-02T14:26:28Z|05fd92f7-60d7-4fe...|      Samantha James|e1696a4f-e1b2-472...|           Amber Sky|\n",
      "|user_000001|2009-05-02T14:24:04Z|6685bdd9-37f3-432...|               Gelka|fc89d5bf-a04c-41c...|          Rasta Baby|\n",
      "|user_000001|2009-05-02T14:19:06Z|6685bdd9-37f3-432...|               Gelka|fc89d5bf-a04c-41c...|          Rasta Baby|\n",
      "|user_000001|2009-05-02T14:13:56Z|1e48cdae-b68d-4cd...|            Marc Mac|                null|            Backspin|\n",
      "|user_000001|2009-05-02T14:10:09Z|1e48cdae-b68d-4cd...|            Marc Mac|                null|         Jazz Flares|\n",
      "|user_000001|2009-05-02T14:06:16Z|1e48cdae-b68d-4cd...|            Marc Mac|                null|              Freeze|\n",
      "|user_000001|2009-05-02T14:01:02Z|1e48cdae-b68d-4cd...|            Marc Mac|                null|            Footwork|\n",
      "|user_000001|2009-05-02T13:55:32Z|1e48cdae-b68d-4cd...|            Marc Mac|                null|            Backspin|\n",
      "|user_000001|2009-05-02T13:51:45Z|1e48cdae-b68d-4cd...|            Marc Mac|                null|         Jazz Flares|\n",
      "|user_000001|2009-05-02T13:46:05Z|1e48cdae-b68d-4cd...|            Marc Mac|                null|              Freeze|\n",
      "|user_000001|2009-05-02T13:40:51Z|1e48cdae-b68d-4cd...|            Marc Mac|                null|            Footwork|\n",
      "|user_000001|2009-05-02T13:35:21Z|1e48cdae-b68d-4cd...|            Marc Mac|                null|            Backspin|\n",
      "|user_000001|2009-05-02T13:31:34Z|1e48cdae-b68d-4cd...|            Marc Mac|                null|         Jazz Flares|\n",
      "|user_000001|2009-05-02T13:25:55Z|1e48cdae-b68d-4cd...|            Marc Mac|                null|              Freeze|\n",
      "|user_000001|2009-05-02T13:20:41Z|1e48cdae-b68d-4cd...|            Marc Mac|                null|            Footwork|\n",
      "|user_000001|2009-05-02T13:15:11Z|1e48cdae-b68d-4cd...|            Marc Mac|                null|            Backspin|\n",
      "|user_000001|2009-05-02T13:11:24Z|1e48cdae-b68d-4cd...|            Marc Mac|                null|         Jazz Flares|\n",
      "|user_000001|2009-05-02T13:05:44Z|1e48cdae-b68d-4cd...|            Marc Mac|                null|              Freeze|\n",
      "|user_000001|2009-05-02T13:00:30Z|1e48cdae-b68d-4cd...|            Marc Mac|                null|            Footwork|\n",
      "|user_000001|2009-05-02T12:55:00Z|1e48cdae-b68d-4cd...|            Marc Mac|                null|            Backspin|\n",
      "|user_000001|2009-05-01T14:27:23Z|56a70482-5528-4be...|           Minilogue|                null|Animals (Luciano ...|\n",
      "|user_000001|2009-05-01T14:07:16Z|56a70482-5528-4be...|           Minilogue|                null|Animals (Luciano ...|\n",
      "|user_000001|2009-05-01T13:55:27Z|56a70482-5528-4be...|           Minilogue|                null|Animals (Luciano ...|\n",
      "|user_000001|2009-05-01T12:45:46Z|eab8228c-a9c8-4dd...|               Clark|935e9356-19cc-467...|       Growls Garden|\n",
      "|user_000001|2009-05-01T12:18:14Z|c64bbb9f-1acb-40f...|              Losoul|d1de63b3-fb80-46b...|           The Crush|\n",
      "|user_000001|2009-05-01T12:09:59Z|f945fc79-fb9e-4e3...|               Karma|e7d6d338-5e90-413...|Are We? (Feat. Mi...|\n",
      "|user_000001|2009-05-01T12:04:30Z|a3934f47-c4cc-4e7...|           Lisa Shaw|                null|Inside My Love (E...|\n",
      "|user_000001|2009-05-01T11:58:15Z|                null|       Rocket Empire|                null|  Simmer Down Jammie|\n",
      "|user_000001|2009-05-01T11:55:00Z|05fd92f7-60d7-4fe...|      Samantha James|e1696a4f-e1b2-472...|           Amber Sky|\n",
      "|user_000001|2009-05-01T11:50:01Z|6685bdd9-37f3-432...|               Gelka|fc89d5bf-a04c-41c...|          Rasta Baby|\n",
      "|user_000001|2009-05-01T10:07:40Z|1e48cdae-b68d-4cd...|            Marc Mac|                null|            Headspin|\n",
      "|user_000001|2009-05-01T10:03:53Z|1e48cdae-b68d-4cd...|            Marc Mac|                null|         Jazz Flares|\n",
      "|user_000001|2009-05-01T09:58:14Z|1e48cdae-b68d-4cd...|            Marc Mac|                null|              Freeze|\n",
      "|user_000001|2009-05-01T09:52:59Z|1e48cdae-b68d-4cd...|            Marc Mac|                null|            Footwork|\n",
      "|user_000001|2009-05-01T09:47:29Z|1e48cdae-b68d-4cd...|            Marc Mac|                null|            Backspin|\n",
      "|user_000001|2009-05-01T09:42:25Z|a3934f47-c4cc-4e7...|           Lisa Shaw|                null|Inside My Love (E...|\n",
      "|user_000001|2009-05-01T09:36:10Z|                null|       Rocket Empire|                null|  Simmer Down Jammie|\n",
      "|user_000001|2009-05-01T09:32:54Z|05fd92f7-60d7-4fe...|      Samantha James|e1696a4f-e1b2-472...|           Amber Sky|\n",
      "|user_000001|2009-05-01T09:27:56Z|6685bdd9-37f3-432...|               Gelka|fc89d5bf-a04c-41c...|          Rasta Baby|\n",
      "|user_000001|2009-05-01T09:22:23Z|88c7bc11-a2a7-4ac...|              Rithma|                null|(The Only) Dark I...|\n",
      "|user_000001|2009-05-01T09:17:36Z|c74ee320-1daa-43e...|   Impossible Beings|952f360d-d678-40b...|          Dois Pólos|\n",
      "|user_000001|2009-05-01T09:12:21Z|                null|              Nicken|                null|               Lifeb|\n",
      "|user_000001|2009-05-01T09:08:00Z|0ae49abe-d6af-44f...| Bombay Bicycle Club|56a5d259-220d-4bf...|You Already Know ...|\n",
      "|user_000001|2009-05-01T09:03:40Z|36081add-59bd-460...|Woolfy Vs. Projec...|da8e7bec-f1ce-466...|            Carry On|\n",
      "|user_000001|2009-05-01T08:58:19Z|                null|           Ivan Enot|                null|Grooves Of The Heart|\n",
      "|user_000001|2009-05-01T08:52:36Z|1e68e986-e1f7-42e...|J. Boogie'S Dubtr...|66eb69ab-a5e3-4d1...|Leave It All Behi...|\n",
      "|user_000001|2009-05-01T08:45:19Z|c2fc3098-b9a5-41a...|       Home & Garden|820c1ffc-5a54-4d6...|Someday (Feat. Li...|\n",
      "|user_000001|2009-05-01T08:41:49Z|278db520-adb6-4d2...|      Kissey Asplund|                null|Move Me [Feat. So...|\n",
      "|user_000001|2009-05-01T08:37:58Z|c6971fd2-7a18-4a3...|          Pc Synergy|                null|        Ready 2 Wear|\n",
      "+-----------+--------------------+--------------------+--------------------+--------------------+--------------------+\n",
      "only showing top 100 rows\n",
      "\n"
     ]
    }
   ],
   "source": [
    "tracksess.show(100)"
   ]
  },
  {
   "cell_type": "code",
   "execution_count": 3,
   "id": "64196cc9",
   "metadata": {},
   "outputs": [],
   "source": [
    "from pyspark.sql import SparkSession\n",
    "# from pyspark.sql.functions import col  # Import the col function\n",
    "import logging\n",
    "from pyspark.sql.window import Window\n",
    "import pyspark.sql.functions as F\n",
    "from pyspark.sql.functions import unix_timestamp, lag, col\n",
    "import pandas as pd\n",
    "log = logging.getLogger(\"kedro\")"
   ]
  },
  {
   "cell_type": "code",
   "execution_count": 25,
   "id": "12c53866",
   "metadata": {},
   "outputs": [
    {
     "data": {
      "text/html": [
       "<pre style=\"white-space:pre;overflow-x:auto;line-height:normal;font-family:Menlo,'DejaVu Sans Mono',consolas,'Courier New',monospace\"><span style=\"color: #7fbfbf; text-decoration-color: #7fbfbf\">[08/29/23 21:21:18] </span><span style=\"color: #000080; text-decoration-color: #000080\">INFO    </span> starting pipeline with session_maxidletime <span style=\"color: #008080; text-decoration-color: #008080; font-weight: bold\">900</span> long_session_quantile    <a href=\"file://C:\\Users\\gauth\\AppData\\Local\\Temp\\ipykernel_33152\\65259357.py\" target=\"_blank\"><span style=\"color: #7f7f7f; text-decoration-color: #7f7f7f\">65259357.py</span></a><span style=\"color: #7f7f7f; text-decoration-color: #7f7f7f\">:</span><a href=\"file://C:\\Users\\gauth\\AppData\\Local\\Temp\\ipykernel_33152\\65259357.py#28\" target=\"_blank\"><span style=\"color: #7f7f7f; text-decoration-color: #7f7f7f\">28</span></a>\n",
       "<span style=\"color: #7fbfbf; text-decoration-color: #7fbfbf\">                    </span>         <span style=\"color: #008080; text-decoration-color: #008080; font-weight: bold\">0.9</span>                                                                     <span style=\"color: #7f7f7f; text-decoration-color: #7f7f7f\">              </span>\n",
       "</pre>\n"
      ],
      "text/plain": [
       "\u001b[2;36m[08/29/23 21:21:18]\u001b[0m\u001b[2;36m \u001b[0m\u001b[34mINFO    \u001b[0m starting pipeline with session_maxidletime \u001b[1;36m900\u001b[0m long_session_quantile    \u001b]8;id=641119;file://C:\\Users\\gauth\\AppData\\Local\\Temp\\ipykernel_33152\\65259357.py\u001b\\\u001b[2m65259357.py\u001b[0m\u001b]8;;\u001b\\\u001b[2m:\u001b[0m\u001b]8;id=175445;file://C:\\Users\\gauth\\AppData\\Local\\Temp\\ipykernel_33152\\65259357.py#28\u001b\\\u001b[2m28\u001b[0m\u001b]8;;\u001b\\\n",
       "\u001b[2;36m                    \u001b[0m         \u001b[1;36m0.9\u001b[0m                                                                     \u001b[2m              \u001b[0m\n"
      ]
     },
     "metadata": {},
     "output_type": "display_data"
    },
    {
     "data": {
      "text/html": [
       "<pre style=\"white-space:pre;overflow-x:auto;line-height:normal;font-family:Menlo,'DejaVu Sans Mono',consolas,'Courier New',monospace\"><span style=\"color: #7fbfbf; text-decoration-color: #7fbfbf\">[08/29/23 21:22:26] </span><span style=\"color: #000080; text-decoration-color: #000080\">INFO    </span> long session threshold <span style=\"color: #008080; text-decoration-color: #008080; font-weight: bold\">9025.0</span>                                           <a href=\"file://C:\\Users\\gauth\\AppData\\Local\\Temp\\ipykernel_33152\\65259357.py\" target=\"_blank\"><span style=\"color: #7f7f7f; text-decoration-color: #7f7f7f\">65259357.py</span></a><span style=\"color: #7f7f7f; text-decoration-color: #7f7f7f\">:</span><a href=\"file://C:\\Users\\gauth\\AppData\\Local\\Temp\\ipykernel_33152\\65259357.py#68\" target=\"_blank\"><span style=\"color: #7f7f7f; text-decoration-color: #7f7f7f\">68</span></a>\n",
       "</pre>\n"
      ],
      "text/plain": [
       "\u001b[2;36m[08/29/23 21:22:26]\u001b[0m\u001b[2;36m \u001b[0m\u001b[34mINFO    \u001b[0m long session threshold \u001b[1;36m9025.0\u001b[0m                                           \u001b]8;id=921204;file://C:\\Users\\gauth\\AppData\\Local\\Temp\\ipykernel_33152\\65259357.py\u001b\\\u001b[2m65259357.py\u001b[0m\u001b]8;;\u001b\\\u001b[2m:\u001b[0m\u001b]8;id=805890;file://C:\\Users\\gauth\\AppData\\Local\\Temp\\ipykernel_33152\\65259357.py#68\u001b\\\u001b[2m68\u001b[0m\u001b]8;;\u001b\\\n"
      ]
     },
     "metadata": {},
     "output_type": "display_data"
    },
    {
     "data": {
      "text/html": [
       "<pre style=\"white-space:pre;overflow-x:auto;line-height:normal;font-family:Menlo,'DejaVu Sans Mono',consolas,'Courier New',monospace\"><span style=\"color: #7fbfbf; text-decoration-color: #7fbfbf\">[08/29/23 21:23:26] </span><span style=\"color: #000080; text-decoration-color: #000080\">INFO    </span> Proportion of users with at least one long session:<span style=\"color: #008080; text-decoration-color: #008080; font-weight: bold\">0.9485887096774194</span>   <a href=\"file://C:\\Users\\gauth\\AppData\\Local\\Temp\\ipykernel_33152\\65259357.py\" target=\"_blank\"><span style=\"color: #7f7f7f; text-decoration-color: #7f7f7f\">65259357.py</span></a><span style=\"color: #7f7f7f; text-decoration-color: #7f7f7f\">:</span><a href=\"file://C:\\Users\\gauth\\AppData\\Local\\Temp\\ipykernel_33152\\65259357.py#93\" target=\"_blank\"><span style=\"color: #7f7f7f; text-decoration-color: #7f7f7f\">93</span></a>\n",
       "</pre>\n"
      ],
      "text/plain": [
       "\u001b[2;36m[08/29/23 21:23:26]\u001b[0m\u001b[2;36m \u001b[0m\u001b[34mINFO    \u001b[0m Proportion of users with at least one long session:\u001b[1;36m0.9485887096774194\u001b[0m   \u001b]8;id=597824;file://C:\\Users\\gauth\\AppData\\Local\\Temp\\ipykernel_33152\\65259357.py\u001b\\\u001b[2m65259357.py\u001b[0m\u001b]8;;\u001b\\\u001b[2m:\u001b[0m\u001b]8;id=721754;file://C:\\Users\\gauth\\AppData\\Local\\Temp\\ipykernel_33152\\65259357.py#93\u001b\\\u001b[2m93\u001b[0m\u001b]8;;\u001b\\\n"
      ]
     },
     "metadata": {},
     "output_type": "display_data"
    }
   ],
   "source": [
    "\n",
    "\n",
    "\n",
    "\n",
    "#log.warning(\"Issue warning\")\n",
    "#log.info(\"Send information\")\n",
    "\n",
    "\n",
    "# Configure SparkSession with local mode and 6 worker threads\n",
    "spark = SparkSession.builder.getOrCreate()\n",
    "assert spark.conf.get(\"spark.app.name\") == 'music-listening-behaviour'\n",
    "\n",
    "# the aim is to group the playlist dataset by listening session \n",
    "# each song has been started within 15 minutes of the other \n",
    "\n",
    "# group by users and start with a user's minimum track session start time\n",
    "# Define a new session ID everytime the time between consecutive tracks exceeds the treshold.\n",
    "# Also define a global session ID, unique across users\n",
    "\n",
    "tracksess = spark.read.csv('C:/GP/music-listening-behaviour/data/01_raw/lastfm-dataset-1K/userid-timestamp-artid-artname-traid-traname.tsv', sep = '\\t').withColumnRenamed(\"_c0\", \"userid\") \\\n",
    "                     .withColumnRenamed(\"_c1\", \"timestamp\") \\\n",
    "                     .withColumnRenamed(\"_c2\", \"artistid\") \\\n",
    "                     .withColumnRenamed(\"_c3\", \"artistname\") \\\n",
    "                     .withColumnRenamed(\"_c4\", \"traid\") \\\n",
    "                     .withColumnRenamed(\"_c5\", \"traname\").orderBy(['userid', \"timestamp\"]) # catalog.load('track-sessions')\n",
    "# tracksess.show(10)\n",
    "#tracksess.count()\n",
    "\n",
    "\n",
    "\n",
    "# defined in conf/base/parameters.yml\n",
    "session_maxidletime = 900 # seconds \n",
    "long_session_quantile = 0.9\n",
    "log.info('starting pipeline with session_maxidletime '+ str(session_maxidletime)+ ' long_session_quantile '+ str(long_session_quantile))\n",
    "\n",
    "# define basic assertions\n",
    "nb_distinct_users = tracksess.select(\"userid\").distinct().count()\n",
    "nb_distinct_users_profiles = tracksess.select(\"userid\").distinct().count()\n",
    "assert nb_distinct_users==992, \"Unexpected number of users\"\n",
    "\n",
    "# Convert timestamp column to timestamp datatype\n",
    "ts = tracksess.withColumn(\"timestamp\", unix_timestamp(\"timestamp\", \"yyyy-MM-dd'T'HH:mm:ss'Z'\").cast(\"timestamp\"))\n",
    "\n",
    "# Define a window specification for user-based operations\n",
    "user_window = Window.partitionBy(\"userid\").orderBy(\"timestamp\")\n",
    "\n",
    "# Calculate time differences between consecutive rows for each user\n",
    "ts = ts.withColumn(\"time_diff\", F.unix_timestamp(\"timestamp\") - F.unix_timestamp(F.lag(\"timestamp\").over(user_window))).orderBy(['userid', \"timestamp\"])\n",
    "\n",
    "# Calculate session boundaries: a new session starts if time difference is greater than 15 minutes\n",
    "# or if the time_diff is null (start of a new user's sessions)\n",
    "ts = ts.withColumn(\"is_new_session\", F.when((F.col(\"time_diff\") > session_maxidletime) | (F.col(\"time_diff\").isNull()), 1).otherwise(0))\n",
    "\n",
    "# Calculate session ID for each session using cumulative sum of \"is_new_session\" column\n",
    "ts = ts.withColumn(\"session_id\", F.sum(\"is_new_session\").over(user_window)).orderBy(['userid', \"timestamp\"])\n",
    "#ts.show(10)\n",
    "\n",
    "# Calculate session duration for each session\n",
    "session_duration = ts.groupBy(\"userid\", \"session_id\").agg(\n",
    "    F.min(\"timestamp\").alias(\"start_time\"),\n",
    "    F.max(\"timestamp\").alias(\"end_time\")\n",
    ").withColumn(\"session_duration\", F.unix_timestamp(\"end_time\") - F.unix_timestamp(\"start_time\")).orderBy(['userid', \"session_id\"])\n",
    "\n",
    "\n",
    "# Calculate a unique session_id across all users\n",
    "session_duration = session_duration.withColumn(\n",
    "    \"unique_session_id\",\n",
    "    F.row_number().over(Window.orderBy(\"userid\", \"session_id\"))\n",
    ")\n",
    "#session_duration.show(10)\n",
    "session_duration.count()\n",
    "\n",
    "# Determine the threshold for a long session duration (top 10 percentile)\n",
    "long_session_threshold = session_duration.approxQuantile(\"session_duration\", [0.9], 0)[0] # error can be increased for performance\n",
    "log.info('long session threshold ' + str(long_session_threshold))\n",
    "\n",
    "# Identify users with at least one long session\n",
    "users_with_long_sessions = session_duration.filter(F.col(\"session_duration\") >= long_session_threshold).select(\"userid\").distinct()\n",
    "#users_with_long_sessions.show(100)\n",
    "\n",
    "# assert that the quantile was correctly approximated\n",
    "quantile_check = session_duration.agg(\n",
    "    F.count(F.when(F.col(\"session_duration\") < long_session_threshold, F.col(\"session_duration\"))).alias(\"short_sessions_sum\"),\n",
    "    F.count(F.when(F.col(\"session_duration\") >= long_session_threshold, F.col(\"session_duration\"))).alias(\"long_sessions_sum\")\n",
    ")\n",
    "qcheck = quantile_check.toPandas()\n",
    "qcheck['short_long_ratio'] = qcheck[\"short_sessions_sum\"] / (qcheck[\"short_sessions_sum\"]+qcheck[\"long_sessions_sum\"])\n",
    "qcheck['long_short_ratio'] = qcheck[\"long_sessions_sum\"] / (qcheck[\"short_sessions_sum\"]+qcheck[\"long_sessions_sum\"])\n",
    "assert abs(qcheck.short_long_ratio[0]-long_session_quantile)<0.001, \"threshold long session quantiles were not correctly defined\"\n",
    "\n",
    "# Count the total number of users and users with at least one long session\n",
    "total_users = ts.select(\"userid\").distinct().count()\n",
    "users_with_long_session_count = users_with_long_sessions.count()\n",
    "users_with_long_session_count\n",
    "\n",
    "# Calculate the proportion of users with at least one long session\n",
    "proportion_with_long_sessions = users_with_long_session_count / total_users\n",
    "\n",
    "# Print the proportion\n",
    "log.info(\"Proportion of users with at least one long session:\" + str(proportion_with_long_sessions))\n"
   ]
  },
  {
   "cell_type": "code",
   "execution_count": 13,
   "id": "094985ea",
   "metadata": {},
   "outputs": [
    {
     "data": {
      "text/html": [
       "<pre style=\"white-space:pre;overflow-x:auto;line-height:normal;font-family:Menlo,'DejaVu Sans Mono',consolas,'Courier New',monospace\"><span style=\"color: #7fbfbf; text-decoration-color: #7fbfbf\">[08/29/23 21:16:44] </span><span style=\"color: #000080; text-decoration-color: #000080\">INFO    </span> Loading data from <span style=\"color: #008000; text-decoration-color: #008000\">'userid-profiles'</span> <span style=\"font-weight: bold\">(</span>CSVDataSet<span style=\"font-weight: bold\">)</span><span style=\"color: #808000; text-decoration-color: #808000\">...</span>                <span style=\"color: #7f7f7f; text-decoration-color: #7f7f7f\">data_catalog.py:475</span>\n",
       "</pre>\n"
      ],
      "text/plain": [
       "\u001b[2;36m[08/29/23 21:16:44]\u001b[0m\u001b[2;36m \u001b[0m\u001b[34mINFO    \u001b[0m Loading data from \u001b[32m'userid-profiles'\u001b[0m \u001b[1m(\u001b[0mCSVDataSet\u001b[1m)\u001b[0m\u001b[33m...\u001b[0m                \u001b[2mdata_catalog.py\u001b[0m\u001b[2m:\u001b[0m\u001b[2m475\u001b[0m\n"
      ]
     },
     "metadata": {},
     "output_type": "display_data"
    },
    {
     "data": {
      "text/html": [
       "<pre style=\"white-space:pre;overflow-x:auto;line-height:normal;font-family:Menlo,'DejaVu Sans Mono',consolas,'Courier New',monospace\"><span style=\"color: #800080; text-decoration-color: #800080; font-weight: bold\">Index</span><span style=\"font-weight: bold\">([</span><span style=\"color: #008000; text-decoration-color: #008000\">'#id'</span>, <span style=\"color: #008000; text-decoration-color: #008000\">'gender'</span>, <span style=\"color: #008000; text-decoration-color: #008000\">'age'</span>, <span style=\"color: #008000; text-decoration-color: #008000\">'country'</span>, <span style=\"color: #008000; text-decoration-color: #008000\">'registered'</span><span style=\"font-weight: bold\">]</span>, <span style=\"color: #808000; text-decoration-color: #808000\">dtype</span>=<span style=\"color: #008000; text-decoration-color: #008000\">'object'</span><span style=\"font-weight: bold\">)</span>\n",
       "</pre>\n"
      ],
      "text/plain": [
       "\u001b[1;35mIndex\u001b[0m\u001b[1m(\u001b[0m\u001b[1m[\u001b[0m\u001b[32m'#id'\u001b[0m, \u001b[32m'gender'\u001b[0m, \u001b[32m'age'\u001b[0m, \u001b[32m'country'\u001b[0m, \u001b[32m'registered'\u001b[0m\u001b[1m]\u001b[0m, \u001b[33mdtype\u001b[0m=\u001b[32m'object'\u001b[0m\u001b[1m)\u001b[0m\n"
      ]
     },
     "metadata": {},
     "output_type": "display_data"
    }
   ],
   "source": [
    "uids = catalog.load('userid-profiles')\n",
    "uids.columns"
   ]
  },
  {
   "cell_type": "code",
   "execution_count": 24,
   "id": "43cefece",
   "metadata": {},
   "outputs": [
    {
     "data": {
      "text/html": [
       "<pre style=\"white-space:pre;overflow-x:auto;line-height:normal;font-family:Menlo,'DejaVu Sans Mono',consolas,'Courier New',monospace\"><span style=\"color: #7fbfbf; text-decoration-color: #7fbfbf\">[08/29/23 21:19:48] </span><span style=\"color: #000080; text-decoration-color: #000080\">INFO    </span> nb_distinct_users992                                                   <a href=\"file://C:\\Users\\gauth\\AppData\\Local\\Temp\\ipykernel_33152\\2169171363.py\" target=\"_blank\"><span style=\"color: #7f7f7f; text-decoration-color: #7f7f7f\">2169171363.py</span></a><span style=\"color: #7f7f7f; text-decoration-color: #7f7f7f\">:</span><a href=\"file://C:\\Users\\gauth\\AppData\\Local\\Temp\\ipykernel_33152\\2169171363.py#3\" target=\"_blank\"><span style=\"color: #7f7f7f; text-decoration-color: #7f7f7f\">3</span></a>\n",
       "</pre>\n"
      ],
      "text/plain": [
       "\u001b[2;36m[08/29/23 21:19:48]\u001b[0m\u001b[2;36m \u001b[0m\u001b[34mINFO    \u001b[0m nb_distinct_users992                                                   \u001b]8;id=640144;file://C:\\Users\\gauth\\AppData\\Local\\Temp\\ipykernel_33152\\2169171363.py\u001b\\\u001b[2m2169171363.py\u001b[0m\u001b]8;;\u001b\\\u001b[2m:\u001b[0m\u001b]8;id=686961;file://C:\\Users\\gauth\\AppData\\Local\\Temp\\ipykernel_33152\\2169171363.py#3\u001b\\\u001b[2m3\u001b[0m\u001b]8;;\u001b\\\n"
      ]
     },
     "metadata": {},
     "output_type": "display_data"
    }
   ],
   "source": [
    "nb_distinct_users = tracksess.select(\"userid\").distinct().count()\n",
    "assert nb_distinct_users==len(uids['#id'].drop_duplicates())\n",
    "log.info('nb_distinct_users '+str(nb_distinct_users))"
   ]
  },
  {
   "cell_type": "code",
   "execution_count": 28,
   "id": "638dbbb7",
   "metadata": {},
   "outputs": [
    {
     "data": {
      "text/html": [
       "<pre style=\"white-space:pre;overflow-x:auto;line-height:normal;font-family:Menlo,'DejaVu Sans Mono',consolas,'Courier New',monospace\">\n",
       "<span style=\"font-weight: bold\">[</span>\n",
       "    <span style=\"font-weight: bold\">(</span><span style=\"color: #008000; text-decoration-color: #008000\">'userid'</span>, <span style=\"color: #008000; text-decoration-color: #008000\">'string'</span><span style=\"font-weight: bold\">)</span>,\n",
       "    <span style=\"font-weight: bold\">(</span><span style=\"color: #008000; text-decoration-color: #008000\">'timestamp'</span>, <span style=\"color: #008000; text-decoration-color: #008000\">'timestamp'</span><span style=\"font-weight: bold\">)</span>,\n",
       "    <span style=\"font-weight: bold\">(</span><span style=\"color: #008000; text-decoration-color: #008000\">'artistid'</span>, <span style=\"color: #008000; text-decoration-color: #008000\">'string'</span><span style=\"font-weight: bold\">)</span>,\n",
       "    <span style=\"font-weight: bold\">(</span><span style=\"color: #008000; text-decoration-color: #008000\">'artistname'</span>, <span style=\"color: #008000; text-decoration-color: #008000\">'string'</span><span style=\"font-weight: bold\">)</span>,\n",
       "    <span style=\"font-weight: bold\">(</span><span style=\"color: #008000; text-decoration-color: #008000\">'traid'</span>, <span style=\"color: #008000; text-decoration-color: #008000\">'string'</span><span style=\"font-weight: bold\">)</span>,\n",
       "    <span style=\"font-weight: bold\">(</span><span style=\"color: #008000; text-decoration-color: #008000\">'traname'</span>, <span style=\"color: #008000; text-decoration-color: #008000\">'string'</span><span style=\"font-weight: bold\">)</span>\n",
       "<span style=\"font-weight: bold\">]</span>\n",
       "</pre>\n"
      ],
      "text/plain": [
       "\n",
       "\u001b[1m[\u001b[0m\n",
       "    \u001b[1m(\u001b[0m\u001b[32m'userid'\u001b[0m, \u001b[32m'string'\u001b[0m\u001b[1m)\u001b[0m,\n",
       "    \u001b[1m(\u001b[0m\u001b[32m'timestamp'\u001b[0m, \u001b[32m'timestamp'\u001b[0m\u001b[1m)\u001b[0m,\n",
       "    \u001b[1m(\u001b[0m\u001b[32m'artistid'\u001b[0m, \u001b[32m'string'\u001b[0m\u001b[1m)\u001b[0m,\n",
       "    \u001b[1m(\u001b[0m\u001b[32m'artistname'\u001b[0m, \u001b[32m'string'\u001b[0m\u001b[1m)\u001b[0m,\n",
       "    \u001b[1m(\u001b[0m\u001b[32m'traid'\u001b[0m, \u001b[32m'string'\u001b[0m\u001b[1m)\u001b[0m,\n",
       "    \u001b[1m(\u001b[0m\u001b[32m'traname'\u001b[0m, \u001b[32m'string'\u001b[0m\u001b[1m)\u001b[0m\n",
       "\u001b[1m]\u001b[0m\n"
      ]
     },
     "metadata": {},
     "output_type": "display_data"
    }
   ],
   "source": [
    "# Convert timestamp column to timestamp datatype\n",
    "ts = tracksess.withColumn(\"timestamp\", unix_timestamp(\"timestamp\", \"yyyy-MM-dd'T'HH:mm:ss'Z'\").cast(\"timestamp\"))\n",
    "ts.dtypes"
   ]
  },
  {
   "cell_type": "code",
   "execution_count": 33,
   "id": "562c3598",
   "metadata": {},
   "outputs": [
    {
     "data": {
      "text/html": [
       "<pre style=\"white-space:pre;overflow-x:auto;line-height:normal;font-family:Menlo,'DejaVu Sans Mono',consolas,'Courier New',monospace\">\n",
       "<span style=\"font-weight: bold\">[</span>\n",
       "    <span style=\"color: #008000; text-decoration-color: #008000\">'__class__'</span>,\n",
       "    <span style=\"color: #008000; text-decoration-color: #008000\">'__delattr__'</span>,\n",
       "    <span style=\"color: #008000; text-decoration-color: #008000\">'__dict__'</span>,\n",
       "    <span style=\"color: #008000; text-decoration-color: #008000\">'__dir__'</span>,\n",
       "    <span style=\"color: #008000; text-decoration-color: #008000\">'__doc__'</span>,\n",
       "    <span style=\"color: #008000; text-decoration-color: #008000\">'__enter__'</span>,\n",
       "    <span style=\"color: #008000; text-decoration-color: #008000\">'__eq__'</span>,\n",
       "    <span style=\"color: #008000; text-decoration-color: #008000\">'__exit__'</span>,\n",
       "    <span style=\"color: #008000; text-decoration-color: #008000\">'__format__'</span>,\n",
       "    <span style=\"color: #008000; text-decoration-color: #008000\">'__ge__'</span>,\n",
       "    <span style=\"color: #008000; text-decoration-color: #008000\">'__getattribute__'</span>,\n",
       "    <span style=\"color: #008000; text-decoration-color: #008000\">'__gt__'</span>,\n",
       "    <span style=\"color: #008000; text-decoration-color: #008000\">'__hash__'</span>,\n",
       "    <span style=\"color: #008000; text-decoration-color: #008000\">'__init__'</span>,\n",
       "    <span style=\"color: #008000; text-decoration-color: #008000\">'__init_subclass__'</span>,\n",
       "    <span style=\"color: #008000; text-decoration-color: #008000\">'__le__'</span>,\n",
       "    <span style=\"color: #008000; text-decoration-color: #008000\">'__lt__'</span>,\n",
       "    <span style=\"color: #008000; text-decoration-color: #008000\">'__module__'</span>,\n",
       "    <span style=\"color: #008000; text-decoration-color: #008000\">'__ne__'</span>,\n",
       "    <span style=\"color: #008000; text-decoration-color: #008000\">'__new__'</span>,\n",
       "    <span style=\"color: #008000; text-decoration-color: #008000\">'__reduce__'</span>,\n",
       "    <span style=\"color: #008000; text-decoration-color: #008000\">'__reduce_ex__'</span>,\n",
       "    <span style=\"color: #008000; text-decoration-color: #008000\">'__repr__'</span>,\n",
       "    <span style=\"color: #008000; text-decoration-color: #008000\">'__setattr__'</span>,\n",
       "    <span style=\"color: #008000; text-decoration-color: #008000\">'__sizeof__'</span>,\n",
       "    <span style=\"color: #008000; text-decoration-color: #008000\">'__str__'</span>,\n",
       "    <span style=\"color: #008000; text-decoration-color: #008000\">'__subclasshook__'</span>,\n",
       "    <span style=\"color: #008000; text-decoration-color: #008000\">'__weakref__'</span>,\n",
       "    <span style=\"color: #008000; text-decoration-color: #008000\">'_conf_source'</span>,\n",
       "    <span style=\"color: #008000; text-decoration-color: #008000\">'_get_config_loader'</span>,\n",
       "    <span style=\"color: #008000; text-decoration-color: #008000\">'_get_logging_config'</span>,\n",
       "    <span style=\"color: #008000; text-decoration-color: #008000\">'_hook_manager'</span>,\n",
       "    <span style=\"color: #008000; text-decoration-color: #008000\">'_init_store'</span>,\n",
       "    <span style=\"color: #008000; text-decoration-color: #008000\">'_log_exception'</span>,\n",
       "    <span style=\"color: #008000; text-decoration-color: #008000\">'_logger'</span>,\n",
       "    <span style=\"color: #008000; text-decoration-color: #008000\">'_package_name'</span>,\n",
       "    <span style=\"color: #008000; text-decoration-color: #008000\">'_project_path'</span>,\n",
       "    <span style=\"color: #008000; text-decoration-color: #008000\">'_run_called'</span>,\n",
       "    <span style=\"color: #008000; text-decoration-color: #008000\">'_setup_logging'</span>,\n",
       "    <span style=\"color: #008000; text-decoration-color: #008000\">'_store'</span>,\n",
       "    <span style=\"color: #008000; text-decoration-color: #008000\">'close'</span>,\n",
       "    <span style=\"color: #008000; text-decoration-color: #008000\">'create'</span>,\n",
       "    <span style=\"color: #008000; text-decoration-color: #008000\">'load_context'</span>,\n",
       "    <span style=\"color: #008000; text-decoration-color: #008000\">'run'</span>,\n",
       "    <span style=\"color: #008000; text-decoration-color: #008000\">'save_on_close'</span>,\n",
       "    <span style=\"color: #008000; text-decoration-color: #008000\">'session_id'</span>,\n",
       "    <span style=\"color: #008000; text-decoration-color: #008000\">'store'</span>\n",
       "<span style=\"font-weight: bold\">]</span>\n",
       "</pre>\n"
      ],
      "text/plain": [
       "\n",
       "\u001b[1m[\u001b[0m\n",
       "    \u001b[32m'__class__'\u001b[0m,\n",
       "    \u001b[32m'__delattr__'\u001b[0m,\n",
       "    \u001b[32m'__dict__'\u001b[0m,\n",
       "    \u001b[32m'__dir__'\u001b[0m,\n",
       "    \u001b[32m'__doc__'\u001b[0m,\n",
       "    \u001b[32m'__enter__'\u001b[0m,\n",
       "    \u001b[32m'__eq__'\u001b[0m,\n",
       "    \u001b[32m'__exit__'\u001b[0m,\n",
       "    \u001b[32m'__format__'\u001b[0m,\n",
       "    \u001b[32m'__ge__'\u001b[0m,\n",
       "    \u001b[32m'__getattribute__'\u001b[0m,\n",
       "    \u001b[32m'__gt__'\u001b[0m,\n",
       "    \u001b[32m'__hash__'\u001b[0m,\n",
       "    \u001b[32m'__init__'\u001b[0m,\n",
       "    \u001b[32m'__init_subclass__'\u001b[0m,\n",
       "    \u001b[32m'__le__'\u001b[0m,\n",
       "    \u001b[32m'__lt__'\u001b[0m,\n",
       "    \u001b[32m'__module__'\u001b[0m,\n",
       "    \u001b[32m'__ne__'\u001b[0m,\n",
       "    \u001b[32m'__new__'\u001b[0m,\n",
       "    \u001b[32m'__reduce__'\u001b[0m,\n",
       "    \u001b[32m'__reduce_ex__'\u001b[0m,\n",
       "    \u001b[32m'__repr__'\u001b[0m,\n",
       "    \u001b[32m'__setattr__'\u001b[0m,\n",
       "    \u001b[32m'__sizeof__'\u001b[0m,\n",
       "    \u001b[32m'__str__'\u001b[0m,\n",
       "    \u001b[32m'__subclasshook__'\u001b[0m,\n",
       "    \u001b[32m'__weakref__'\u001b[0m,\n",
       "    \u001b[32m'_conf_source'\u001b[0m,\n",
       "    \u001b[32m'_get_config_loader'\u001b[0m,\n",
       "    \u001b[32m'_get_logging_config'\u001b[0m,\n",
       "    \u001b[32m'_hook_manager'\u001b[0m,\n",
       "    \u001b[32m'_init_store'\u001b[0m,\n",
       "    \u001b[32m'_log_exception'\u001b[0m,\n",
       "    \u001b[32m'_logger'\u001b[0m,\n",
       "    \u001b[32m'_package_name'\u001b[0m,\n",
       "    \u001b[32m'_project_path'\u001b[0m,\n",
       "    \u001b[32m'_run_called'\u001b[0m,\n",
       "    \u001b[32m'_setup_logging'\u001b[0m,\n",
       "    \u001b[32m'_store'\u001b[0m,\n",
       "    \u001b[32m'close'\u001b[0m,\n",
       "    \u001b[32m'create'\u001b[0m,\n",
       "    \u001b[32m'load_context'\u001b[0m,\n",
       "    \u001b[32m'run'\u001b[0m,\n",
       "    \u001b[32m'save_on_close'\u001b[0m,\n",
       "    \u001b[32m'session_id'\u001b[0m,\n",
       "    \u001b[32m'store'\u001b[0m\n",
       "\u001b[1m]\u001b[0m\n"
      ]
     },
     "metadata": {},
     "output_type": "display_data"
    }
   ],
   "source": [
    "dir(session)"
   ]
  },
  {
   "cell_type": "code",
   "execution_count": 52,
   "id": "efbeb4fc",
   "metadata": {},
   "outputs": [
    {
     "data": {
      "text/html": [
       "<pre style=\"white-space:pre;overflow-x:auto;line-height:normal;font-family:Menlo,'DejaVu Sans Mono',consolas,'Courier New',monospace\"><span style=\"color: #7fbfbf; text-decoration-color: #7fbfbf\">[08/29/23 22:53:02] </span><span style=\"color: #000080; text-decoration-color: #000080\">INFO    </span> Resolved project path as: C:\\GP\\music-listening-behaviour.             <span style=\"color: #7f7f7f; text-decoration-color: #7f7f7f\">__init__.py:139</span>\n",
       "<span style=\"color: #7fbfbf; text-decoration-color: #7fbfbf\">                    </span>         To set a different path, run <span style=\"color: #008000; text-decoration-color: #008000\">'%reload_kedro &lt;project_root&gt;'</span>            <span style=\"color: #7f7f7f; text-decoration-color: #7f7f7f\">               </span>\n",
       "</pre>\n"
      ],
      "text/plain": [
       "\u001b[2;36m[08/29/23 22:53:02]\u001b[0m\u001b[2;36m \u001b[0m\u001b[34mINFO    \u001b[0m Resolved project path as: C:\\GP\\music-listening-behaviour.             \u001b[2m__init__.py\u001b[0m\u001b[2m:\u001b[0m\u001b[2m139\u001b[0m\n",
       "\u001b[2;36m                    \u001b[0m         To set a different path, run \u001b[32m'%reload_kedro \u001b[0m\u001b[32m<\u001b[0m\u001b[32mproject_root\u001b[0m\u001b[32m>\u001b[0m\u001b[32m'\u001b[0m            \u001b[2m               \u001b[0m\n"
      ]
     },
     "metadata": {},
     "output_type": "display_data"
    },
    {
     "data": {
      "text/html": [
       "<pre style=\"white-space:pre;overflow-x:auto;line-height:normal;font-family:Menlo,'DejaVu Sans Mono',consolas,'Courier New',monospace\"><span style=\"color: #7fbfbf; text-decoration-color: #7fbfbf\">[08/29/23 22:53:03] </span><span style=\"color: #000080; text-decoration-color: #000080\">INFO    </span> Kedro project music-listening-behaviour                                <span style=\"color: #7f7f7f; text-decoration-color: #7f7f7f\">__init__.py:108</span>\n",
       "</pre>\n"
      ],
      "text/plain": [
       "\u001b[2;36m[08/29/23 22:53:03]\u001b[0m\u001b[2;36m \u001b[0m\u001b[34mINFO    \u001b[0m Kedro project music-listening-behaviour                                \u001b[2m__init__.py\u001b[0m\u001b[2m:\u001b[0m\u001b[2m108\u001b[0m\n"
      ]
     },
     "metadata": {},
     "output_type": "display_data"
    },
    {
     "data": {
      "text/html": [
       "<pre style=\"white-space:pre;overflow-x:auto;line-height:normal;font-family:Menlo,'DejaVu Sans Mono',consolas,'Courier New',monospace\"><span style=\"color: #7fbfbf; text-decoration-color: #7fbfbf\">                    </span><span style=\"color: #000080; text-decoration-color: #000080\">INFO    </span> Defined global variable <span style=\"color: #008000; text-decoration-color: #008000\">'context'</span>, <span style=\"color: #008000; text-decoration-color: #008000\">'session'</span>, <span style=\"color: #008000; text-decoration-color: #008000\">'catalog'</span> and            <span style=\"color: #7f7f7f; text-decoration-color: #7f7f7f\">__init__.py:109</span>\n",
       "<span style=\"color: #7fbfbf; text-decoration-color: #7fbfbf\">                    </span>         <span style=\"color: #008000; text-decoration-color: #008000\">'pipelines'</span>                                                            <span style=\"color: #7f7f7f; text-decoration-color: #7f7f7f\">               </span>\n",
       "</pre>\n"
      ],
      "text/plain": [
       "\u001b[2;36m                   \u001b[0m\u001b[2;36m \u001b[0m\u001b[34mINFO    \u001b[0m Defined global variable \u001b[32m'context'\u001b[0m, \u001b[32m'session'\u001b[0m, \u001b[32m'catalog'\u001b[0m and            \u001b[2m__init__.py\u001b[0m\u001b[2m:\u001b[0m\u001b[2m109\u001b[0m\n",
       "\u001b[2;36m                    \u001b[0m         \u001b[32m'pipelines'\u001b[0m                                                            \u001b[2m               \u001b[0m\n"
      ]
     },
     "metadata": {},
     "output_type": "display_data"
    },
    {
     "data": {
      "text/html": [
       "<pre style=\"white-space:pre;overflow-x:auto;line-height:normal;font-family:Menlo,'DejaVu Sans Mono',consolas,'Courier New',monospace\"><span style=\"color: #7fbfbf; text-decoration-color: #7fbfbf\">                    </span><span style=\"color: #000080; text-decoration-color: #000080\">INFO    </span> Registered line magic <span style=\"color: #008000; text-decoration-color: #008000\">'run_viz'</span>                                        <span style=\"color: #7f7f7f; text-decoration-color: #7f7f7f\">__init__.py:115</span>\n",
       "</pre>\n"
      ],
      "text/plain": [
       "\u001b[2;36m                   \u001b[0m\u001b[2;36m \u001b[0m\u001b[34mINFO    \u001b[0m Registered line magic \u001b[32m'run_viz'\u001b[0m                                        \u001b[2m__init__.py\u001b[0m\u001b[2m:\u001b[0m\u001b[2m115\u001b[0m\n"
      ]
     },
     "metadata": {},
     "output_type": "display_data"
    }
   ],
   "source": [
    "%reload_kedro"
   ]
  },
  {
   "cell_type": "code",
   "execution_count": 5,
   "id": "1dc16342",
   "metadata": {},
   "outputs": [
    {
     "data": {
      "text/html": [
       "<pre style=\"white-space:pre;overflow-x:auto;line-height:normal;font-family:Menlo,'DejaVu Sans Mono',consolas,'Courier New',monospace\"><span style=\"color: #7fbfbf; text-decoration-color: #7fbfbf\">[08/29/23 23:40:20] </span><span style=\"color: #000080; text-decoration-color: #000080\">INFO    </span> Kedro project music-listening-behaviour                                 <span style=\"color: #7f7f7f; text-decoration-color: #7f7f7f\">session.py:364</span>\n",
       "</pre>\n"
      ],
      "text/plain": [
       "\u001b[2;36m[08/29/23 23:40:20]\u001b[0m\u001b[2;36m \u001b[0m\u001b[34mINFO    \u001b[0m Kedro project music-listening-behaviour                                 \u001b[2msession.py\u001b[0m\u001b[2m:\u001b[0m\u001b[2m364\u001b[0m\n"
      ]
     },
     "metadata": {},
     "output_type": "display_data"
    },
    {
     "data": {
      "text/html": [
       "<pre style=\"white-space:pre;overflow-x:auto;line-height:normal;font-family:Menlo,'DejaVu Sans Mono',consolas,'Courier New',monospace\"><span style=\"color: #7fbfbf; text-decoration-color: #7fbfbf\">[08/29/23 23:40:21] </span><span style=\"color: #000080; text-decoration-color: #000080\">INFO    </span> Loading data from <span style=\"color: #008000; text-decoration-color: #008000\">'track_sessions'</span> <span style=\"font-weight: bold\">(</span>SparkDataSet<span style=\"font-weight: bold\">)</span><span style=\"color: #808000; text-decoration-color: #808000\">...</span>               <span style=\"color: #7f7f7f; text-decoration-color: #7f7f7f\">data_catalog.py:475</span>\n",
       "</pre>\n"
      ],
      "text/plain": [
       "\u001b[2;36m[08/29/23 23:40:21]\u001b[0m\u001b[2;36m \u001b[0m\u001b[34mINFO    \u001b[0m Loading data from \u001b[32m'track_sessions'\u001b[0m \u001b[1m(\u001b[0mSparkDataSet\u001b[1m)\u001b[0m\u001b[33m...\u001b[0m               \u001b[2mdata_catalog.py\u001b[0m\u001b[2m:\u001b[0m\u001b[2m475\u001b[0m\n"
      ]
     },
     "metadata": {},
     "output_type": "display_data"
    },
    {
     "data": {
      "text/html": [
       "<pre style=\"white-space:pre;overflow-x:auto;line-height:normal;font-family:Menlo,'DejaVu Sans Mono',consolas,'Courier New',monospace\"><span style=\"color: #7fbfbf; text-decoration-color: #7fbfbf\">[08/29/23 23:40:22] </span><span style=\"color: #000080; text-decoration-color: #000080\">INFO    </span> Loading data from <span style=\"color: #008000; text-decoration-color: #008000\">'userid_profiles'</span> <span style=\"font-weight: bold\">(</span>CSVDataSet<span style=\"font-weight: bold\">)</span><span style=\"color: #808000; text-decoration-color: #808000\">...</span>                <span style=\"color: #7f7f7f; text-decoration-color: #7f7f7f\">data_catalog.py:475</span>\n",
       "</pre>\n"
      ],
      "text/plain": [
       "\u001b[2;36m[08/29/23 23:40:22]\u001b[0m\u001b[2;36m \u001b[0m\u001b[34mINFO    \u001b[0m Loading data from \u001b[32m'userid_profiles'\u001b[0m \u001b[1m(\u001b[0mCSVDataSet\u001b[1m)\u001b[0m\u001b[33m...\u001b[0m                \u001b[2mdata_catalog.py\u001b[0m\u001b[2m:\u001b[0m\u001b[2m475\u001b[0m\n"
      ]
     },
     "metadata": {},
     "output_type": "display_data"
    },
    {
     "data": {
      "text/html": [
       "<pre style=\"white-space:pre;overflow-x:auto;line-height:normal;font-family:Menlo,'DejaVu Sans Mono',consolas,'Courier New',monospace\"><span style=\"color: #7fbfbf; text-decoration-color: #7fbfbf\">                    </span><span style=\"color: #000080; text-decoration-color: #000080\">INFO    </span> Loading data from <span style=\"color: #008000; text-decoration-color: #008000\">'parameters'</span> <span style=\"font-weight: bold\">(</span>MemoryDataset<span style=\"font-weight: bold\">)</span><span style=\"color: #808000; text-decoration-color: #808000\">...</span>                  <span style=\"color: #7f7f7f; text-decoration-color: #7f7f7f\">data_catalog.py:475</span>\n",
       "</pre>\n"
      ],
      "text/plain": [
       "\u001b[2;36m                   \u001b[0m\u001b[2;36m \u001b[0m\u001b[34mINFO    \u001b[0m Loading data from \u001b[32m'parameters'\u001b[0m \u001b[1m(\u001b[0mMemoryDataset\u001b[1m)\u001b[0m\u001b[33m...\u001b[0m                  \u001b[2mdata_catalog.py\u001b[0m\u001b[2m:\u001b[0m\u001b[2m475\u001b[0m\n"
      ]
     },
     "metadata": {},
     "output_type": "display_data"
    },
    {
     "data": {
      "text/html": [
       "<pre style=\"white-space:pre;overflow-x:auto;line-height:normal;font-family:Menlo,'DejaVu Sans Mono',consolas,'Courier New',monospace\"><span style=\"color: #7fbfbf; text-decoration-color: #7fbfbf\">                    </span><span style=\"color: #000080; text-decoration-color: #000080\">INFO    </span> Running node: preprocess_format_tracksessions:                             <span style=\"color: #7f7f7f; text-decoration-color: #7f7f7f\">node.py:331</span>\n",
       "<span style=\"color: #7fbfbf; text-decoration-color: #7fbfbf\">                    </span>         <span style=\"color: #800080; text-decoration-color: #800080; font-weight: bold\">preprocess_format_tracksessions</span><span style=\"font-weight: bold\">([</span>track_sessions,userid_profiles,parameters <span style=\"color: #7f7f7f; text-decoration-color: #7f7f7f\">           </span>\n",
       "<span style=\"color: #7fbfbf; text-decoration-color: #7fbfbf\">                    </span>         <span style=\"font-weight: bold\">])</span> -&gt; <span style=\"font-weight: bold\">[</span>ts_formatted<span style=\"font-weight: bold\">]</span>                                                       <span style=\"color: #7f7f7f; text-decoration-color: #7f7f7f\">           </span>\n",
       "</pre>\n"
      ],
      "text/plain": [
       "\u001b[2;36m                   \u001b[0m\u001b[2;36m \u001b[0m\u001b[34mINFO    \u001b[0m Running node: preprocess_format_tracksessions:                             \u001b[2mnode.py\u001b[0m\u001b[2m:\u001b[0m\u001b[2m331\u001b[0m\n",
       "\u001b[2;36m                    \u001b[0m         \u001b[1;35mpreprocess_format_tracksessions\u001b[0m\u001b[1m(\u001b[0m\u001b[1m[\u001b[0mtrack_sessions,userid_profiles,parameters \u001b[2m           \u001b[0m\n",
       "\u001b[2;36m                    \u001b[0m         \u001b[1m]\u001b[0m\u001b[1m)\u001b[0m -> \u001b[1m[\u001b[0mts_formatted\u001b[1m]\u001b[0m                                                       \u001b[2m           \u001b[0m\n"
      ]
     },
     "metadata": {},
     "output_type": "display_data"
    },
    {
     "data": {
      "text/html": [
       "<pre style=\"white-space:pre;overflow-x:auto;line-height:normal;font-family:Menlo,'DejaVu Sans Mono',consolas,'Courier New',monospace\"><span style=\"color: #7fbfbf; text-decoration-color: #7fbfbf\">[08/29/23 23:40:28] </span><span style=\"color: #000080; text-decoration-color: #000080\">INFO    </span> nb_distinct_users <span style=\"color: #008080; text-decoration-color: #008080; font-weight: bold\">992</span>                                                      <a href=\"file://C:\\GP\\music-listening-behaviour\\src\\music_listening_behaviour\\pipelines\\data_processing\\nodes.py\" target=\"_blank\"><span style=\"color: #7f7f7f; text-decoration-color: #7f7f7f\">nodes.py</span></a><span style=\"color: #7f7f7f; text-decoration-color: #7f7f7f\">:</span><a href=\"file://C:\\GP\\music-listening-behaviour\\src\\music_listening_behaviour\\pipelines\\data_processing\\nodes.py#39\" target=\"_blank\"><span style=\"color: #7f7f7f; text-decoration-color: #7f7f7f\">39</span></a>\n",
       "</pre>\n"
      ],
      "text/plain": [
       "\u001b[2;36m[08/29/23 23:40:28]\u001b[0m\u001b[2;36m \u001b[0m\u001b[34mINFO    \u001b[0m nb_distinct_users \u001b[1;36m992\u001b[0m                                                      \u001b]8;id=398545;file://C:\\GP\\music-listening-behaviour\\src\\music_listening_behaviour\\pipelines\\data_processing\\nodes.py\u001b\\\u001b[2mnodes.py\u001b[0m\u001b]8;;\u001b\\\u001b[2m:\u001b[0m\u001b]8;id=351884;file://C:\\GP\\music-listening-behaviour\\src\\music_listening_behaviour\\pipelines\\data_processing\\nodes.py#39\u001b\\\u001b[2m39\u001b[0m\u001b]8;;\u001b\\\n"
      ]
     },
     "metadata": {},
     "output_type": "display_data"
    },
    {
     "data": {
      "text/html": [
       "<pre style=\"white-space:pre;overflow-x:auto;line-height:normal;font-family:Menlo,'DejaVu Sans Mono',consolas,'Courier New',monospace\"><span style=\"color: #7fbfbf; text-decoration-color: #7fbfbf\">                    </span><span style=\"color: #000080; text-decoration-color: #000080\">INFO    </span> Saving data to <span style=\"color: #008000; text-decoration-color: #008000\">'ts_formatted'</span> <span style=\"font-weight: bold\">(</span>SparkDataSet<span style=\"font-weight: bold\">)</span><span style=\"color: #808000; text-decoration-color: #808000\">...</span>                    <span style=\"color: #7f7f7f; text-decoration-color: #7f7f7f\">data_catalog.py:514</span>\n",
       "</pre>\n"
      ],
      "text/plain": [
       "\u001b[2;36m                   \u001b[0m\u001b[2;36m \u001b[0m\u001b[34mINFO    \u001b[0m Saving data to \u001b[32m'ts_formatted'\u001b[0m \u001b[1m(\u001b[0mSparkDataSet\u001b[1m)\u001b[0m\u001b[33m...\u001b[0m                    \u001b[2mdata_catalog.py\u001b[0m\u001b[2m:\u001b[0m\u001b[2m514\u001b[0m\n"
      ]
     },
     "metadata": {},
     "output_type": "display_data"
    },
    {
     "data": {
      "text/html": [
       "<pre style=\"white-space:pre;overflow-x:auto;line-height:normal;font-family:Menlo,'DejaVu Sans Mono',consolas,'Courier New',monospace\"><span style=\"color: #7fbfbf; text-decoration-color: #7fbfbf\">[08/29/23 23:40:44] </span><span style=\"color: #000080; text-decoration-color: #000080\">INFO    </span> Completed <span style=\"color: #008080; text-decoration-color: #008080; font-weight: bold\">1</span> out of <span style=\"color: #008080; text-decoration-color: #008080; font-weight: bold\">1</span> tasks                                     <span style=\"color: #7f7f7f; text-decoration-color: #7f7f7f\">sequential_runner.py:85</span>\n",
       "</pre>\n"
      ],
      "text/plain": [
       "\u001b[2;36m[08/29/23 23:40:44]\u001b[0m\u001b[2;36m \u001b[0m\u001b[34mINFO    \u001b[0m Completed \u001b[1;36m1\u001b[0m out of \u001b[1;36m1\u001b[0m tasks                                     \u001b[2msequential_runner.py\u001b[0m\u001b[2m:\u001b[0m\u001b[2m85\u001b[0m\n"
      ]
     },
     "metadata": {},
     "output_type": "display_data"
    },
    {
     "data": {
      "text/html": [
       "<pre style=\"white-space:pre;overflow-x:auto;line-height:normal;font-family:Menlo,'DejaVu Sans Mono',consolas,'Courier New',monospace\"><span style=\"color: #7fbfbf; text-decoration-color: #7fbfbf\">                    </span><span style=\"color: #000080; text-decoration-color: #000080\">INFO    </span> Pipeline execution completed successfully.                               <span style=\"color: #7f7f7f; text-decoration-color: #7f7f7f\">runner.py:105</span>\n",
       "</pre>\n"
      ],
      "text/plain": [
       "\u001b[2;36m                   \u001b[0m\u001b[2;36m \u001b[0m\u001b[34mINFO    \u001b[0m Pipeline execution completed successfully.                               \u001b[2mrunner.py\u001b[0m\u001b[2m:\u001b[0m\u001b[2m105\u001b[0m\n"
      ]
     },
     "metadata": {},
     "output_type": "display_data"
    },
    {
     "data": {
      "text/html": [
       "<pre style=\"white-space:pre;overflow-x:auto;line-height:normal;font-family:Menlo,'DejaVu Sans Mono',consolas,'Courier New',monospace\"><span style=\"font-weight: bold\">{}</span>\n",
       "</pre>\n"
      ],
      "text/plain": [
       "\u001b[1m{\u001b[0m\u001b[1m}\u001b[0m\n"
      ]
     },
     "metadata": {},
     "output_type": "display_data"
    }
   ],
   "source": [
    "session.run()"
   ]
  },
  {
   "cell_type": "code",
   "execution_count": 7,
   "id": "7fbbc601",
   "metadata": {},
   "outputs": [
    {
     "data": {
      "text/html": [
       "<pre style=\"white-space:pre;overflow-x:auto;line-height:normal;font-family:Menlo,'DejaVu Sans Mono',consolas,'Courier New',monospace\"><span style=\"color: #7fbfbf; text-decoration-color: #7fbfbf\">[08/30/23 13:05:27] </span><span style=\"color: #000080; text-decoration-color: #000080\">INFO    </span> Loading data from <span style=\"color: #008000; text-decoration-color: #008000\">'userid_profiles'</span> <span style=\"font-weight: bold\">(</span>CSVDataSet<span style=\"font-weight: bold\">)</span><span style=\"color: #808000; text-decoration-color: #808000\">...</span>                <span style=\"color: #7f7f7f; text-decoration-color: #7f7f7f\">data_catalog.py:475</span>\n",
       "</pre>\n"
      ],
      "text/plain": [
       "\u001b[2;36m[08/30/23 13:05:27]\u001b[0m\u001b[2;36m \u001b[0m\u001b[34mINFO    \u001b[0m Loading data from \u001b[32m'userid_profiles'\u001b[0m \u001b[1m(\u001b[0mCSVDataSet\u001b[1m)\u001b[0m\u001b[33m...\u001b[0m                \u001b[2mdata_catalog.py\u001b[0m\u001b[2m:\u001b[0m\u001b[2m475\u001b[0m\n"
      ]
     },
     "metadata": {},
     "output_type": "display_data"
    }
   ],
   "source": [
    "profiles = catalog.load('userid_profiles')"
   ]
  },
  {
   "cell_type": "code",
   "execution_count": 8,
   "id": "22eff627",
   "metadata": {},
   "outputs": [
    {
     "data": {
      "text/html": [
       "<div>\n",
       "<style scoped>\n",
       "    .dataframe tbody tr th:only-of-type {\n",
       "        vertical-align: middle;\n",
       "    }\n",
       "\n",
       "    .dataframe tbody tr th {\n",
       "        vertical-align: top;\n",
       "    }\n",
       "\n",
       "    .dataframe thead th {\n",
       "        text-align: right;\n",
       "    }\n",
       "</style>\n",
       "<table border=\"1\" class=\"dataframe\">\n",
       "  <thead>\n",
       "    <tr style=\"text-align: right;\">\n",
       "      <th></th>\n",
       "      <th>#id</th>\n",
       "      <th>gender</th>\n",
       "      <th>age</th>\n",
       "      <th>country</th>\n",
       "      <th>registered</th>\n",
       "    </tr>\n",
       "  </thead>\n",
       "  <tbody>\n",
       "    <tr>\n",
       "      <th>0</th>\n",
       "      <td>user_000001</td>\n",
       "      <td>m</td>\n",
       "      <td>NaN</td>\n",
       "      <td>Japan</td>\n",
       "      <td>Aug 13, 2006</td>\n",
       "    </tr>\n",
       "    <tr>\n",
       "      <th>1</th>\n",
       "      <td>user_000002</td>\n",
       "      <td>f</td>\n",
       "      <td>NaN</td>\n",
       "      <td>Peru</td>\n",
       "      <td>Feb 24, 2006</td>\n",
       "    </tr>\n",
       "    <tr>\n",
       "      <th>2</th>\n",
       "      <td>user_000003</td>\n",
       "      <td>m</td>\n",
       "      <td>22.0</td>\n",
       "      <td>United States</td>\n",
       "      <td>Oct 30, 2005</td>\n",
       "    </tr>\n",
       "    <tr>\n",
       "      <th>3</th>\n",
       "      <td>user_000004</td>\n",
       "      <td>f</td>\n",
       "      <td>NaN</td>\n",
       "      <td>NaN</td>\n",
       "      <td>Apr 26, 2006</td>\n",
       "    </tr>\n",
       "    <tr>\n",
       "      <th>4</th>\n",
       "      <td>user_000005</td>\n",
       "      <td>m</td>\n",
       "      <td>NaN</td>\n",
       "      <td>Bulgaria</td>\n",
       "      <td>Jun 29, 2006</td>\n",
       "    </tr>\n",
       "    <tr>\n",
       "      <th>...</th>\n",
       "      <td>...</td>\n",
       "      <td>...</td>\n",
       "      <td>...</td>\n",
       "      <td>...</td>\n",
       "      <td>...</td>\n",
       "    </tr>\n",
       "    <tr>\n",
       "      <th>987</th>\n",
       "      <td>user_000996</td>\n",
       "      <td>f</td>\n",
       "      <td>NaN</td>\n",
       "      <td>United States</td>\n",
       "      <td>Jul 17, 2006</td>\n",
       "    </tr>\n",
       "    <tr>\n",
       "      <th>988</th>\n",
       "      <td>user_000997</td>\n",
       "      <td>m</td>\n",
       "      <td>NaN</td>\n",
       "      <td>United States</td>\n",
       "      <td>Jan 5, 2007</td>\n",
       "    </tr>\n",
       "    <tr>\n",
       "      <th>989</th>\n",
       "      <td>user_000998</td>\n",
       "      <td>m</td>\n",
       "      <td>NaN</td>\n",
       "      <td>United Kingdom</td>\n",
       "      <td>Sep 28, 2005</td>\n",
       "    </tr>\n",
       "    <tr>\n",
       "      <th>990</th>\n",
       "      <td>user_000999</td>\n",
       "      <td>f</td>\n",
       "      <td>NaN</td>\n",
       "      <td>Poland</td>\n",
       "      <td>Jul 24, 2007</td>\n",
       "    </tr>\n",
       "    <tr>\n",
       "      <th>991</th>\n",
       "      <td>user_001000</td>\n",
       "      <td>m</td>\n",
       "      <td>NaN</td>\n",
       "      <td>United States</td>\n",
       "      <td>Mar 24, 2007</td>\n",
       "    </tr>\n",
       "  </tbody>\n",
       "</table>\n",
       "<p>992 rows × 5 columns</p>\n",
       "</div>"
      ]
     },
     "execution_count": 8,
     "metadata": {},
     "output_type": "execute_result"
    }
   ],
   "source": [
    "profiles"
   ]
  },
  {
   "cell_type": "code",
   "execution_count": null,
   "id": "dbe57b05",
   "metadata": {},
   "outputs": [],
   "source": [
    "nb_distinct_users = tracksess.select(\"userid\").distinct().count()"
   ]
  },
  {
   "cell_type": "code",
   "execution_count": null,
   "id": "b26f6b58",
   "metadata": {},
   "outputs": [],
   "source": [
    "nb_distinct_profiles = profiles.select(\"#id\").distinct().count()"
   ]
  },
  {
   "cell_type": "code",
   "execution_count": null,
   "id": "51d0b2fc",
   "metadata": {},
   "outputs": [],
   "source": [
    "assert nb_distinct_users == nb_distinct_profiles"
   ]
  },
  {
   "cell_type": "code",
   "execution_count": null,
   "id": "be9df3f4",
   "metadata": {},
   "outputs": [],
   "source": [
    "nb_distinct_users = tracksess.select(\"userid\").distinct().count()\n",
    "# nb_unique_users = 992\n",
    "assert nb_distinct_users==len(userid_profiles['#id'].drop_duplicates())"
   ]
  },
  {
   "cell_type": "code",
   "execution_count": 9,
   "id": "4e2f4748",
   "metadata": {},
   "outputs": [
    {
     "data": {
      "text/html": [
       "<pre style=\"white-space:pre;overflow-x:auto;line-height:normal;font-family:Menlo,'DejaVu Sans Mono',consolas,'Courier New',monospace\"><span style=\"color: #7fbfbf; text-decoration-color: #7fbfbf\">[08/30/23 13:19:09] </span><span style=\"color: #000080; text-decoration-color: #000080\">INFO    </span> Kedro project music-listening-behaviour                                 <span style=\"color: #7f7f7f; text-decoration-color: #7f7f7f\">session.py:364</span>\n",
       "</pre>\n"
      ],
      "text/plain": [
       "\u001b[2;36m[08/30/23 13:19:09]\u001b[0m\u001b[2;36m \u001b[0m\u001b[34mINFO    \u001b[0m Kedro project music-listening-behaviour                                 \u001b[2msession.py\u001b[0m\u001b[2m:\u001b[0m\u001b[2m364\u001b[0m\n"
      ]
     },
     "metadata": {},
     "output_type": "display_data"
    },
    {
     "data": {
      "text/html": [
       "<pre style=\"white-space:pre;overflow-x:auto;line-height:normal;font-family:Menlo,'DejaVu Sans Mono',consolas,'Courier New',monospace\"><span style=\"color: #7fbfbf; text-decoration-color: #7fbfbf\">                    </span><span style=\"color: #800000; text-decoration-color: #800000\">WARNING </span> C:\\Program                                                             <span style=\"color: #7f7f7f; text-decoration-color: #7f7f7f\">warnings.py:109</span>\n",
       "<span style=\"color: #7fbfbf; text-decoration-color: #7fbfbf\">                    </span>         Files\\Python310\\lib\\site-packages\\kedro\\framework\\session\\session.py:<span style=\"color: #008080; text-decoration-color: #008080; font-weight: bold\">2</span> <span style=\"color: #7f7f7f; text-decoration-color: #7f7f7f\">               </span>\n",
       "<span style=\"color: #7fbfbf; text-decoration-color: #7fbfbf\">                    </span>         <span style=\"color: #008080; text-decoration-color: #008080; font-weight: bold\">66</span>: FutureWarning: ConfigLoader will be deprecated in Kedro <span style=\"color: #008080; text-decoration-color: #008080; font-weight: bold\">0.19</span>.      <span style=\"color: #7f7f7f; text-decoration-color: #7f7f7f\">               </span>\n",
       "<span style=\"color: #7fbfbf; text-decoration-color: #7fbfbf\">                    </span>         Please use the OmegaConfigLoader instead. To consult the documentation <span style=\"color: #7f7f7f; text-decoration-color: #7f7f7f\">               </span>\n",
       "<span style=\"color: #7fbfbf; text-decoration-color: #7fbfbf\">                    </span>         for OmegaConfigLoader, see here:                                       <span style=\"color: #7f7f7f; text-decoration-color: #7f7f7f\">               </span>\n",
       "<span style=\"color: #7fbfbf; text-decoration-color: #7fbfbf\">                    </span>         <span style=\"color: #0000ff; text-decoration-color: #0000ff; text-decoration: underline\">https://docs.kedro.org/en/stable/configuration/advanced_configuration.</span> <span style=\"color: #7f7f7f; text-decoration-color: #7f7f7f\">               </span>\n",
       "<span style=\"color: #7fbfbf; text-decoration-color: #7fbfbf\">                    </span>         <span style=\"color: #0000ff; text-decoration-color: #0000ff; text-decoration: underline\">html#omegaconfigloader</span>                                                 <span style=\"color: #7f7f7f; text-decoration-color: #7f7f7f\">               </span>\n",
       "<span style=\"color: #7fbfbf; text-decoration-color: #7fbfbf\">                    </span>           <span style=\"color: #800080; text-decoration-color: #800080; font-weight: bold\">warnings.warn</span><span style=\"font-weight: bold\">(</span>                                                       <span style=\"color: #7f7f7f; text-decoration-color: #7f7f7f\">               </span>\n",
       "<span style=\"color: #7fbfbf; text-decoration-color: #7fbfbf\">                    </span>                                                                                <span style=\"color: #7f7f7f; text-decoration-color: #7f7f7f\">               </span>\n",
       "</pre>\n"
      ],
      "text/plain": [
       "\u001b[2;36m                   \u001b[0m\u001b[2;36m \u001b[0m\u001b[31mWARNING \u001b[0m C:\\Program                                                             \u001b[2mwarnings.py\u001b[0m\u001b[2m:\u001b[0m\u001b[2m109\u001b[0m\n",
       "\u001b[2;36m                    \u001b[0m         Files\\Python310\\lib\\site-packages\\kedro\\framework\\session\\session.py:\u001b[1;36m2\u001b[0m \u001b[2m               \u001b[0m\n",
       "\u001b[2;36m                    \u001b[0m         \u001b[1;36m66\u001b[0m: FutureWarning: ConfigLoader will be deprecated in Kedro \u001b[1;36m0.19\u001b[0m.      \u001b[2m               \u001b[0m\n",
       "\u001b[2;36m                    \u001b[0m         Please use the OmegaConfigLoader instead. To consult the documentation \u001b[2m               \u001b[0m\n",
       "\u001b[2;36m                    \u001b[0m         for OmegaConfigLoader, see here:                                       \u001b[2m               \u001b[0m\n",
       "\u001b[2;36m                    \u001b[0m         \u001b[4;94mhttps://docs.kedro.org/en/stable/configuration/advanced_configuration.\u001b[0m \u001b[2m               \u001b[0m\n",
       "\u001b[2;36m                    \u001b[0m         \u001b[4;94mhtml#omegaconfigloader\u001b[0m                                                 \u001b[2m               \u001b[0m\n",
       "\u001b[2;36m                    \u001b[0m           \u001b[1;35mwarnings.warn\u001b[0m\u001b[1m(\u001b[0m                                                       \u001b[2m               \u001b[0m\n",
       "\u001b[2;36m                    \u001b[0m                                                                                \u001b[2m               \u001b[0m\n"
      ]
     },
     "metadata": {},
     "output_type": "display_data"
    },
    {
     "data": {
      "text/html": [
       "<pre style=\"white-space:pre;overflow-x:auto;line-height:normal;font-family:Menlo,'DejaVu Sans Mono',consolas,'Courier New',monospace\"><span style=\"color: #7fbfbf; text-decoration-color: #7fbfbf\">                    </span><span style=\"color: #000080; text-decoration-color: #000080\">INFO    </span> Loading data from <span style=\"color: #008000; text-decoration-color: #008000\">'track_sessions'</span> <span style=\"font-weight: bold\">(</span>SparkDataSet<span style=\"font-weight: bold\">)</span><span style=\"color: #808000; text-decoration-color: #808000\">...</span>               <span style=\"color: #7f7f7f; text-decoration-color: #7f7f7f\">data_catalog.py:475</span>\n",
       "</pre>\n"
      ],
      "text/plain": [
       "\u001b[2;36m                   \u001b[0m\u001b[2;36m \u001b[0m\u001b[34mINFO    \u001b[0m Loading data from \u001b[32m'track_sessions'\u001b[0m \u001b[1m(\u001b[0mSparkDataSet\u001b[1m)\u001b[0m\u001b[33m...\u001b[0m               \u001b[2mdata_catalog.py\u001b[0m\u001b[2m:\u001b[0m\u001b[2m475\u001b[0m\n"
      ]
     },
     "metadata": {},
     "output_type": "display_data"
    },
    {
     "data": {
      "text/html": [
       "<pre style=\"white-space:pre;overflow-x:auto;line-height:normal;font-family:Menlo,'DejaVu Sans Mono',consolas,'Courier New',monospace\"><span style=\"color: #7fbfbf; text-decoration-color: #7fbfbf\">[08/30/23 13:19:11] </span><span style=\"color: #000080; text-decoration-color: #000080\">INFO    </span> Loading data from <span style=\"color: #008000; text-decoration-color: #008000\">'userid_profiles'</span> <span style=\"font-weight: bold\">(</span>CSVDataSet<span style=\"font-weight: bold\">)</span><span style=\"color: #808000; text-decoration-color: #808000\">...</span>                <span style=\"color: #7f7f7f; text-decoration-color: #7f7f7f\">data_catalog.py:475</span>\n",
       "</pre>\n"
      ],
      "text/plain": [
       "\u001b[2;36m[08/30/23 13:19:11]\u001b[0m\u001b[2;36m \u001b[0m\u001b[34mINFO    \u001b[0m Loading data from \u001b[32m'userid_profiles'\u001b[0m \u001b[1m(\u001b[0mCSVDataSet\u001b[1m)\u001b[0m\u001b[33m...\u001b[0m                \u001b[2mdata_catalog.py\u001b[0m\u001b[2m:\u001b[0m\u001b[2m475\u001b[0m\n"
      ]
     },
     "metadata": {},
     "output_type": "display_data"
    },
    {
     "data": {
      "text/html": [
       "<pre style=\"white-space:pre;overflow-x:auto;line-height:normal;font-family:Menlo,'DejaVu Sans Mono',consolas,'Courier New',monospace\"><span style=\"color: #7fbfbf; text-decoration-color: #7fbfbf\">                    </span><span style=\"color: #000080; text-decoration-color: #000080\">INFO    </span> Loading data from <span style=\"color: #008000; text-decoration-color: #008000\">'parameters'</span> <span style=\"font-weight: bold\">(</span>MemoryDataset<span style=\"font-weight: bold\">)</span><span style=\"color: #808000; text-decoration-color: #808000\">...</span>                  <span style=\"color: #7f7f7f; text-decoration-color: #7f7f7f\">data_catalog.py:475</span>\n",
       "</pre>\n"
      ],
      "text/plain": [
       "\u001b[2;36m                   \u001b[0m\u001b[2;36m \u001b[0m\u001b[34mINFO    \u001b[0m Loading data from \u001b[32m'parameters'\u001b[0m \u001b[1m(\u001b[0mMemoryDataset\u001b[1m)\u001b[0m\u001b[33m...\u001b[0m                  \u001b[2mdata_catalog.py\u001b[0m\u001b[2m:\u001b[0m\u001b[2m475\u001b[0m\n"
      ]
     },
     "metadata": {},
     "output_type": "display_data"
    },
    {
     "data": {
      "text/html": [
       "<pre style=\"white-space:pre;overflow-x:auto;line-height:normal;font-family:Menlo,'DejaVu Sans Mono',consolas,'Courier New',monospace\"><span style=\"color: #7fbfbf; text-decoration-color: #7fbfbf\">                    </span><span style=\"color: #000080; text-decoration-color: #000080\">INFO    </span> Running node: preprocess_format_tracksessions:                             <span style=\"color: #7f7f7f; text-decoration-color: #7f7f7f\">node.py:331</span>\n",
       "<span style=\"color: #7fbfbf; text-decoration-color: #7fbfbf\">                    </span>         <span style=\"color: #800080; text-decoration-color: #800080; font-weight: bold\">preprocess_format_tracksessions</span><span style=\"font-weight: bold\">([</span>track_sessions,userid_profiles,parameters <span style=\"color: #7f7f7f; text-decoration-color: #7f7f7f\">           </span>\n",
       "<span style=\"color: #7fbfbf; text-decoration-color: #7fbfbf\">                    </span>         <span style=\"font-weight: bold\">])</span> -&gt; <span style=\"font-weight: bold\">[</span>ts_formatted<span style=\"font-weight: bold\">]</span>                                                       <span style=\"color: #7f7f7f; text-decoration-color: #7f7f7f\">           </span>\n",
       "</pre>\n"
      ],
      "text/plain": [
       "\u001b[2;36m                   \u001b[0m\u001b[2;36m \u001b[0m\u001b[34mINFO    \u001b[0m Running node: preprocess_format_tracksessions:                             \u001b[2mnode.py\u001b[0m\u001b[2m:\u001b[0m\u001b[2m331\u001b[0m\n",
       "\u001b[2;36m                    \u001b[0m         \u001b[1;35mpreprocess_format_tracksessions\u001b[0m\u001b[1m(\u001b[0m\u001b[1m[\u001b[0mtrack_sessions,userid_profiles,parameters \u001b[2m           \u001b[0m\n",
       "\u001b[2;36m                    \u001b[0m         \u001b[1m]\u001b[0m\u001b[1m)\u001b[0m -> \u001b[1m[\u001b[0mts_formatted\u001b[1m]\u001b[0m                                                       \u001b[2m           \u001b[0m\n"
      ]
     },
     "metadata": {},
     "output_type": "display_data"
    },
    {
     "data": {
      "text/html": [
       "<pre style=\"white-space:pre;overflow-x:auto;line-height:normal;font-family:Menlo,'DejaVu Sans Mono',consolas,'Courier New',monospace\"><span style=\"color: #7fbfbf; text-decoration-color: #7fbfbf\">[08/30/23 13:19:18] </span><span style=\"color: #000080; text-decoration-color: #000080\">INFO    </span> nb_distinct_users <span style=\"color: #008080; text-decoration-color: #008080; font-weight: bold\">992</span>                                                      <a href=\"file://C:\\GP\\music-listening-behaviour\\src\\music_listening_behaviour\\pipelines\\data_processing\\nodes.py\" target=\"_blank\"><span style=\"color: #7f7f7f; text-decoration-color: #7f7f7f\">nodes.py</span></a><span style=\"color: #7f7f7f; text-decoration-color: #7f7f7f\">:</span><a href=\"file://C:\\GP\\music-listening-behaviour\\src\\music_listening_behaviour\\pipelines\\data_processing\\nodes.py#39\" target=\"_blank\"><span style=\"color: #7f7f7f; text-decoration-color: #7f7f7f\">39</span></a>\n",
       "</pre>\n"
      ],
      "text/plain": [
       "\u001b[2;36m[08/30/23 13:19:18]\u001b[0m\u001b[2;36m \u001b[0m\u001b[34mINFO    \u001b[0m nb_distinct_users \u001b[1;36m992\u001b[0m                                                      \u001b]8;id=67616;file://C:\\GP\\music-listening-behaviour\\src\\music_listening_behaviour\\pipelines\\data_processing\\nodes.py\u001b\\\u001b[2mnodes.py\u001b[0m\u001b]8;;\u001b\\\u001b[2m:\u001b[0m\u001b]8;id=782303;file://C:\\GP\\music-listening-behaviour\\src\\music_listening_behaviour\\pipelines\\data_processing\\nodes.py#39\u001b\\\u001b[2m39\u001b[0m\u001b]8;;\u001b\\\n"
      ]
     },
     "metadata": {},
     "output_type": "display_data"
    },
    {
     "data": {
      "text/html": [
       "<pre style=\"white-space:pre;overflow-x:auto;line-height:normal;font-family:Menlo,'DejaVu Sans Mono',consolas,'Courier New',monospace\"><span style=\"color: #7fbfbf; text-decoration-color: #7fbfbf\">                    </span><span style=\"color: #000080; text-decoration-color: #000080\">INFO    </span> Saving data to <span style=\"color: #008000; text-decoration-color: #008000\">'ts_formatted'</span> <span style=\"font-weight: bold\">(</span>MemoryDataset<span style=\"font-weight: bold\">)</span><span style=\"color: #808000; text-decoration-color: #808000\">...</span>                   <span style=\"color: #7f7f7f; text-decoration-color: #7f7f7f\">data_catalog.py:514</span>\n",
       "</pre>\n"
      ],
      "text/plain": [
       "\u001b[2;36m                   \u001b[0m\u001b[2;36m \u001b[0m\u001b[34mINFO    \u001b[0m Saving data to \u001b[32m'ts_formatted'\u001b[0m \u001b[1m(\u001b[0mMemoryDataset\u001b[1m)\u001b[0m\u001b[33m...\u001b[0m                   \u001b[2mdata_catalog.py\u001b[0m\u001b[2m:\u001b[0m\u001b[2m514\u001b[0m\n"
      ]
     },
     "metadata": {},
     "output_type": "display_data"
    },
    {
     "data": {
      "text/html": [
       "<pre style=\"white-space:pre;overflow-x:auto;line-height:normal;font-family:Menlo,'DejaVu Sans Mono',consolas,'Courier New',monospace\"><span style=\"color: #7fbfbf; text-decoration-color: #7fbfbf\">                    </span><span style=\"color: #000080; text-decoration-color: #000080\">INFO    </span> Completed <span style=\"color: #008080; text-decoration-color: #008080; font-weight: bold\">1</span> out of <span style=\"color: #008080; text-decoration-color: #008080; font-weight: bold\">2</span> tasks                                     <span style=\"color: #7f7f7f; text-decoration-color: #7f7f7f\">sequential_runner.py:85</span>\n",
       "</pre>\n"
      ],
      "text/plain": [
       "\u001b[2;36m                   \u001b[0m\u001b[2;36m \u001b[0m\u001b[34mINFO    \u001b[0m Completed \u001b[1;36m1\u001b[0m out of \u001b[1;36m2\u001b[0m tasks                                     \u001b[2msequential_runner.py\u001b[0m\u001b[2m:\u001b[0m\u001b[2m85\u001b[0m\n"
      ]
     },
     "metadata": {},
     "output_type": "display_data"
    },
    {
     "data": {
      "text/html": [
       "<pre style=\"white-space:pre;overflow-x:auto;line-height:normal;font-family:Menlo,'DejaVu Sans Mono',consolas,'Courier New',monospace\"><span style=\"color: #7fbfbf; text-decoration-color: #7fbfbf\">                    </span><span style=\"color: #000080; text-decoration-color: #000080\">INFO    </span> Loading data from <span style=\"color: #008000; text-decoration-color: #008000\">'ts_formatted'</span> <span style=\"font-weight: bold\">(</span>MemoryDataset<span style=\"font-weight: bold\">)</span><span style=\"color: #808000; text-decoration-color: #808000\">...</span>                <span style=\"color: #7f7f7f; text-decoration-color: #7f7f7f\">data_catalog.py:475</span>\n",
       "</pre>\n"
      ],
      "text/plain": [
       "\u001b[2;36m                   \u001b[0m\u001b[2;36m \u001b[0m\u001b[34mINFO    \u001b[0m Loading data from \u001b[32m'ts_formatted'\u001b[0m \u001b[1m(\u001b[0mMemoryDataset\u001b[1m)\u001b[0m\u001b[33m...\u001b[0m                \u001b[2mdata_catalog.py\u001b[0m\u001b[2m:\u001b[0m\u001b[2m475\u001b[0m\n"
      ]
     },
     "metadata": {},
     "output_type": "display_data"
    },
    {
     "data": {
      "text/html": [
       "<pre style=\"white-space:pre;overflow-x:auto;line-height:normal;font-family:Menlo,'DejaVu Sans Mono',consolas,'Courier New',monospace\"><span style=\"color: #7fbfbf; text-decoration-color: #7fbfbf\">                    </span><span style=\"color: #000080; text-decoration-color: #000080\">INFO    </span> Loading data from <span style=\"color: #008000; text-decoration-color: #008000\">'parameters'</span> <span style=\"font-weight: bold\">(</span>MemoryDataset<span style=\"font-weight: bold\">)</span><span style=\"color: #808000; text-decoration-color: #808000\">...</span>                  <span style=\"color: #7f7f7f; text-decoration-color: #7f7f7f\">data_catalog.py:475</span>\n",
       "</pre>\n"
      ],
      "text/plain": [
       "\u001b[2;36m                   \u001b[0m\u001b[2;36m \u001b[0m\u001b[34mINFO    \u001b[0m Loading data from \u001b[32m'parameters'\u001b[0m \u001b[1m(\u001b[0mMemoryDataset\u001b[1m)\u001b[0m\u001b[33m...\u001b[0m                  \u001b[2mdata_catalog.py\u001b[0m\u001b[2m:\u001b[0m\u001b[2m475\u001b[0m\n"
      ]
     },
     "metadata": {},
     "output_type": "display_data"
    },
    {
     "data": {
      "text/html": [
       "<pre style=\"white-space:pre;overflow-x:auto;line-height:normal;font-family:Menlo,'DejaVu Sans Mono',consolas,'Courier New',monospace\"><span style=\"color: #7fbfbf; text-decoration-color: #7fbfbf\">                    </span><span style=\"color: #000080; text-decoration-color: #000080\">INFO    </span> Running node: process_format_tracksessions:                                <span style=\"color: #7f7f7f; text-decoration-color: #7f7f7f\">node.py:331</span>\n",
       "<span style=\"color: #7fbfbf; text-decoration-color: #7fbfbf\">                    </span>         <span style=\"color: #800080; text-decoration-color: #800080; font-weight: bold\">process_tracksessions</span><span style=\"font-weight: bold\">([</span>ts_formatted,parameters<span style=\"font-weight: bold\">])</span> -&gt; <span style=\"font-weight: bold\">[</span>results_summary<span style=\"font-weight: bold\">]</span>      <span style=\"color: #7f7f7f; text-decoration-color: #7f7f7f\">           </span>\n",
       "</pre>\n"
      ],
      "text/plain": [
       "\u001b[2;36m                   \u001b[0m\u001b[2;36m \u001b[0m\u001b[34mINFO    \u001b[0m Running node: process_format_tracksessions:                                \u001b[2mnode.py\u001b[0m\u001b[2m:\u001b[0m\u001b[2m331\u001b[0m\n",
       "\u001b[2;36m                    \u001b[0m         \u001b[1;35mprocess_tracksessions\u001b[0m\u001b[1m(\u001b[0m\u001b[1m[\u001b[0mts_formatted,parameters\u001b[1m]\u001b[0m\u001b[1m)\u001b[0m -> \u001b[1m[\u001b[0mresults_summary\u001b[1m]\u001b[0m      \u001b[2m           \u001b[0m\n"
      ]
     },
     "metadata": {},
     "output_type": "display_data"
    },
    {
     "data": {
      "text/html": [
       "<pre style=\"white-space:pre;overflow-x:auto;line-height:normal;font-family:Menlo,'DejaVu Sans Mono',consolas,'Courier New',monospace\"><span style=\"color: #7fbfbf; text-decoration-color: #7fbfbf\">[08/30/23 13:20:03] </span><span style=\"color: #000080; text-decoration-color: #000080\">INFO    </span> long session threshold <span style=\"color: #008080; text-decoration-color: #008080; font-weight: bold\">9025.0</span>                                              <a href=\"file://C:\\GP\\music-listening-behaviour\\src\\music_listening_behaviour\\pipelines\\data_processing\\nodes.py\" target=\"_blank\"><span style=\"color: #7f7f7f; text-decoration-color: #7f7f7f\">nodes.py</span></a><span style=\"color: #7f7f7f; text-decoration-color: #7f7f7f\">:</span><a href=\"file://C:\\GP\\music-listening-behaviour\\src\\music_listening_behaviour\\pipelines\\data_processing\\nodes.py#92\" target=\"_blank\"><span style=\"color: #7f7f7f; text-decoration-color: #7f7f7f\">92</span></a>\n",
       "</pre>\n"
      ],
      "text/plain": [
       "\u001b[2;36m[08/30/23 13:20:03]\u001b[0m\u001b[2;36m \u001b[0m\u001b[34mINFO    \u001b[0m long session threshold \u001b[1;36m9025.0\u001b[0m                                              \u001b]8;id=29654;file://C:\\GP\\music-listening-behaviour\\src\\music_listening_behaviour\\pipelines\\data_processing\\nodes.py\u001b\\\u001b[2mnodes.py\u001b[0m\u001b]8;;\u001b\\\u001b[2m:\u001b[0m\u001b]8;id=569986;file://C:\\GP\\music-listening-behaviour\\src\\music_listening_behaviour\\pipelines\\data_processing\\nodes.py#92\u001b\\\u001b[2m92\u001b[0m\u001b]8;;\u001b\\\n"
      ]
     },
     "metadata": {},
     "output_type": "display_data"
    },
    {
     "data": {
      "text/html": [
       "<pre style=\"white-space:pre;overflow-x:auto;line-height:normal;font-family:Menlo,'DejaVu Sans Mono',consolas,'Courier New',monospace\"><span style=\"color: #7fbfbf; text-decoration-color: #7fbfbf\">[08/30/23 13:20:49] </span><span style=\"color: #000080; text-decoration-color: #000080\">INFO    </span>    users_with_long_session_count  total_users                             <a href=\"file://C:\\GP\\music-listening-behaviour\\src\\music_listening_behaviour\\pipelines\\data_processing\\nodes.py\" target=\"_blank\"><span style=\"color: #7f7f7f; text-decoration-color: #7f7f7f\">nodes.py</span></a><span style=\"color: #7f7f7f; text-decoration-color: #7f7f7f\">:</span><a href=\"file://C:\\GP\\music-listening-behaviour\\src\\music_listening_behaviour\\pipelines\\data_processing\\nodes.py#127\" target=\"_blank\"><span style=\"color: #7f7f7f; text-decoration-color: #7f7f7f\">127</span></a>\n",
       "<span style=\"color: #7fbfbf; text-decoration-color: #7fbfbf\">                    </span>         proportion_with_long_sessions  \\                                          <span style=\"color: #7f7f7f; text-decoration-color: #7f7f7f\">            </span>\n",
       "<span style=\"color: #7fbfbf; text-decoration-color: #7fbfbf\">                    </span>         <span style=\"color: #008080; text-decoration-color: #008080; font-weight: bold\">0</span>                            <span style=\"color: #008080; text-decoration-color: #008080; font-weight: bold\">941</span>          <span style=\"color: #008080; text-decoration-color: #008080; font-weight: bold\">992</span>                             <span style=\"color: #7f7f7f; text-decoration-color: #7f7f7f\">            </span>\n",
       "<span style=\"color: #7fbfbf; text-decoration-color: #7fbfbf\">                    </span>         <span style=\"color: #008080; text-decoration-color: #008080; font-weight: bold\">0.948589</span>                                                                  <span style=\"color: #7f7f7f; text-decoration-color: #7f7f7f\">            </span>\n",
       "<span style=\"color: #7fbfbf; text-decoration-color: #7fbfbf\">                    </span>                                                                                   <span style=\"color: #7f7f7f; text-decoration-color: #7f7f7f\">            </span>\n",
       "<span style=\"color: #7fbfbf; text-decoration-color: #7fbfbf\">                    </span>            long_session_threshold  total short sessions  total long sessions  \\   <span style=\"color: #7f7f7f; text-decoration-color: #7f7f7f\">            </span>\n",
       "<span style=\"color: #7fbfbf; text-decoration-color: #7fbfbf\">                    </span>         <span style=\"color: #008080; text-decoration-color: #008080; font-weight: bold\">0</span>                  <span style=\"color: #008080; text-decoration-color: #008080; font-weight: bold\">9025.0</span>               <span style=\"color: #008080; text-decoration-color: #008080; font-weight: bold\">1059361</span>               <span style=\"color: #008080; text-decoration-color: #008080; font-weight: bold\">117715</span>      <span style=\"color: #7f7f7f; text-decoration-color: #7f7f7f\">            </span>\n",
       "<span style=\"color: #7fbfbf; text-decoration-color: #7fbfbf\">                    </span>                                                                                   <span style=\"color: #7f7f7f; text-decoration-color: #7f7f7f\">            </span>\n",
       "<span style=\"color: #7fbfbf; text-decoration-color: #7fbfbf\">                    </span>            long_session_ratio                                                     <span style=\"color: #7f7f7f; text-decoration-color: #7f7f7f\">            </span>\n",
       "<span style=\"color: #7fbfbf; text-decoration-color: #7fbfbf\">                    </span>         <span style=\"color: #008080; text-decoration-color: #008080; font-weight: bold\">0</span>            <span style=\"color: #008080; text-decoration-color: #008080; font-weight: bold\">0.100006</span>                                                     <span style=\"color: #7f7f7f; text-decoration-color: #7f7f7f\">            </span>\n",
       "</pre>\n"
      ],
      "text/plain": [
       "\u001b[2;36m[08/30/23 13:20:49]\u001b[0m\u001b[2;36m \u001b[0m\u001b[34mINFO    \u001b[0m    users_with_long_session_count  total_users                             \u001b]8;id=166354;file://C:\\GP\\music-listening-behaviour\\src\\music_listening_behaviour\\pipelines\\data_processing\\nodes.py\u001b\\\u001b[2mnodes.py\u001b[0m\u001b]8;;\u001b\\\u001b[2m:\u001b[0m\u001b]8;id=216351;file://C:\\GP\\music-listening-behaviour\\src\\music_listening_behaviour\\pipelines\\data_processing\\nodes.py#127\u001b\\\u001b[2m127\u001b[0m\u001b]8;;\u001b\\\n",
       "\u001b[2;36m                    \u001b[0m         proportion_with_long_sessions  \\                                          \u001b[2m            \u001b[0m\n",
       "\u001b[2;36m                    \u001b[0m         \u001b[1;36m0\u001b[0m                            \u001b[1;36m941\u001b[0m          \u001b[1;36m992\u001b[0m                             \u001b[2m            \u001b[0m\n",
       "\u001b[2;36m                    \u001b[0m         \u001b[1;36m0.948589\u001b[0m                                                                  \u001b[2m            \u001b[0m\n",
       "\u001b[2;36m                    \u001b[0m                                                                                   \u001b[2m            \u001b[0m\n",
       "\u001b[2;36m                    \u001b[0m            long_session_threshold  total short sessions  total long sessions  \\   \u001b[2m            \u001b[0m\n",
       "\u001b[2;36m                    \u001b[0m         \u001b[1;36m0\u001b[0m                  \u001b[1;36m9025.0\u001b[0m               \u001b[1;36m1059361\u001b[0m               \u001b[1;36m117715\u001b[0m      \u001b[2m            \u001b[0m\n",
       "\u001b[2;36m                    \u001b[0m                                                                                   \u001b[2m            \u001b[0m\n",
       "\u001b[2;36m                    \u001b[0m            long_session_ratio                                                     \u001b[2m            \u001b[0m\n",
       "\u001b[2;36m                    \u001b[0m         \u001b[1;36m0\u001b[0m            \u001b[1;36m0.100006\u001b[0m                                                     \u001b[2m            \u001b[0m\n"
      ]
     },
     "metadata": {},
     "output_type": "display_data"
    },
    {
     "data": {
      "text/html": [
       "<pre style=\"white-space:pre;overflow-x:auto;line-height:normal;font-family:Menlo,'DejaVu Sans Mono',consolas,'Courier New',monospace\"><span style=\"color: #7fbfbf; text-decoration-color: #7fbfbf\">                    </span><span style=\"color: #000080; text-decoration-color: #000080\">INFO    </span> Saving data to <span style=\"color: #008000; text-decoration-color: #008000\">'results_summary'</span> <span style=\"font-weight: bold\">(</span>ExcelDataSet<span style=\"font-weight: bold\">)</span><span style=\"color: #808000; text-decoration-color: #808000\">...</span>                 <span style=\"color: #7f7f7f; text-decoration-color: #7f7f7f\">data_catalog.py:514</span>\n",
       "</pre>\n"
      ],
      "text/plain": [
       "\u001b[2;36m                   \u001b[0m\u001b[2;36m \u001b[0m\u001b[34mINFO    \u001b[0m Saving data to \u001b[32m'results_summary'\u001b[0m \u001b[1m(\u001b[0mExcelDataSet\u001b[1m)\u001b[0m\u001b[33m...\u001b[0m                 \u001b[2mdata_catalog.py\u001b[0m\u001b[2m:\u001b[0m\u001b[2m514\u001b[0m\n"
      ]
     },
     "metadata": {},
     "output_type": "display_data"
    },
    {
     "data": {
      "text/html": [
       "<pre style=\"white-space:pre;overflow-x:auto;line-height:normal;font-family:Menlo,'DejaVu Sans Mono',consolas,'Courier New',monospace\"><span style=\"color: #7fbfbf; text-decoration-color: #7fbfbf\">                    </span><span style=\"color: #000080; text-decoration-color: #000080\">INFO    </span> Completed <span style=\"color: #008080; text-decoration-color: #008080; font-weight: bold\">2</span> out of <span style=\"color: #008080; text-decoration-color: #008080; font-weight: bold\">2</span> tasks                                     <span style=\"color: #7f7f7f; text-decoration-color: #7f7f7f\">sequential_runner.py:85</span>\n",
       "</pre>\n"
      ],
      "text/plain": [
       "\u001b[2;36m                   \u001b[0m\u001b[2;36m \u001b[0m\u001b[34mINFO    \u001b[0m Completed \u001b[1;36m2\u001b[0m out of \u001b[1;36m2\u001b[0m tasks                                     \u001b[2msequential_runner.py\u001b[0m\u001b[2m:\u001b[0m\u001b[2m85\u001b[0m\n"
      ]
     },
     "metadata": {},
     "output_type": "display_data"
    },
    {
     "data": {
      "text/html": [
       "<pre style=\"white-space:pre;overflow-x:auto;line-height:normal;font-family:Menlo,'DejaVu Sans Mono',consolas,'Courier New',monospace\"><span style=\"color: #7fbfbf; text-decoration-color: #7fbfbf\">                    </span><span style=\"color: #000080; text-decoration-color: #000080\">INFO    </span> Pipeline execution completed successfully.                               <span style=\"color: #7f7f7f; text-decoration-color: #7f7f7f\">runner.py:105</span>\n",
       "</pre>\n"
      ],
      "text/plain": [
       "\u001b[2;36m                   \u001b[0m\u001b[2;36m \u001b[0m\u001b[34mINFO    \u001b[0m Pipeline execution completed successfully.                               \u001b[2mrunner.py\u001b[0m\u001b[2m:\u001b[0m\u001b[2m105\u001b[0m\n"
      ]
     },
     "metadata": {},
     "output_type": "display_data"
    },
    {
     "data": {
      "text/html": [
       "<pre style=\"white-space:pre;overflow-x:auto;line-height:normal;font-family:Menlo,'DejaVu Sans Mono',consolas,'Courier New',monospace\"><span style=\"font-weight: bold\">{}</span>\n",
       "</pre>\n"
      ],
      "text/plain": [
       "\u001b[1m{\u001b[0m\u001b[1m}\u001b[0m\n"
      ]
     },
     "metadata": {},
     "output_type": "display_data"
    }
   ],
   "source": [
    "session.run()"
   ]
  }
 ],
 "metadata": {
  "kernelspec": {
   "display_name": "Kedro (music_listening_behaviour)",
   "language": "python",
   "name": "kedro_music_listening_behaviour"
  },
  "language_info": {
   "codemirror_mode": {
    "name": "ipython",
    "version": 3
   },
   "file_extension": ".py",
   "mimetype": "text/x-python",
   "name": "python",
   "nbconvert_exporter": "python",
   "pygments_lexer": "ipython3",
   "version": "3.10.5"
  }
 },
 "nbformat": 4,
 "nbformat_minor": 5
}
